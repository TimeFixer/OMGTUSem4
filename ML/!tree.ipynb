{
 "cells": [
  {
   "cell_type": "code",
   "execution_count": null,
   "id": "4944ff8a",
   "metadata": {},
   "outputs": [],
   "source": [
    "import pandas as pd\n",
    "from sklearn.model_selection import train_test_split\n",
    "\n",
    "data_reg = pd.read_csv['1dataset.csv']\n",
    "y = data_reg['price']\n",
    "X = data_reg.drop(['price'], axis=1)\n",
    "\n",
    "X_train, X_test, y_train, y_test = train_test_split(X, y, test_size=0.2, random_state= 42)\n",
    "\n"
   ]
  },
  {
   "cell_type": "code",
   "execution_count": null,
   "id": "9e9223a4",
   "metadata": {},
   "outputs": [],
   "source": [
    "data_cls = pd.read_csv['2dataset.csv']"
   ]
  }
 ],
 "metadata": {
  "language_info": {
   "name": "python"
  }
 },
 "nbformat": 4,
 "nbformat_minor": 5
}
