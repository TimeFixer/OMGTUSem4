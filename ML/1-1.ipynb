{
 "cells": [
  {
   "cell_type": "code",
   "execution_count": 5,
   "metadata": {},
   "outputs": [],
   "source": [
    "import pandas as pd"
   ]
  },
  {
   "cell_type": "code",
   "execution_count": 6,
   "metadata": {},
   "outputs": [
    {
     "data": {
      "text/html": [
       "<div>\n",
       "<style scoped>\n",
       "    .dataframe tbody tr th:only-of-type {\n",
       "        vertical-align: middle;\n",
       "    }\n",
       "\n",
       "    .dataframe tbody tr th {\n",
       "        vertical-align: top;\n",
       "    }\n",
       "\n",
       "    .dataframe thead th {\n",
       "        text-align: right;\n",
       "    }\n",
       "</style>\n",
       "<table border=\"1\" class=\"dataframe\">\n",
       "  <thead>\n",
       "    <tr style=\"text-align: right;\">\n",
       "      <th></th>\n",
       "      <th>carat</th>\n",
       "      <th>cut</th>\n",
       "      <th>color</th>\n",
       "      <th>clarity</th>\n",
       "      <th>depth</th>\n",
       "      <th>table</th>\n",
       "      <th>price</th>\n",
       "      <th>x</th>\n",
       "      <th>y</th>\n",
       "      <th>z</th>\n",
       "      <th>v</th>\n",
       "    </tr>\n",
       "  </thead>\n",
       "  <tbody>\n",
       "    <tr>\n",
       "      <th>0</th>\n",
       "      <td>23</td>\n",
       "      <td>4</td>\n",
       "      <td>3</td>\n",
       "      <td>1</td>\n",
       "      <td>615</td>\n",
       "      <td>55</td>\n",
       "      <td>326</td>\n",
       "      <td>395</td>\n",
       "      <td>398</td>\n",
       "      <td>243</td>\n",
       "      <td>38202030</td>\n",
       "    </tr>\n",
       "    <tr>\n",
       "      <th>1</th>\n",
       "      <td>21</td>\n",
       "      <td>3</td>\n",
       "      <td>3</td>\n",
       "      <td>2</td>\n",
       "      <td>598</td>\n",
       "      <td>61</td>\n",
       "      <td>326</td>\n",
       "      <td>389</td>\n",
       "      <td>384</td>\n",
       "      <td>231</td>\n",
       "      <td>34505856</td>\n",
       "    </tr>\n",
       "    <tr>\n",
       "      <th>2</th>\n",
       "      <td>28</td>\n",
       "      <td>3</td>\n",
       "      <td>1</td>\n",
       "      <td>3</td>\n",
       "      <td>624</td>\n",
       "      <td>58</td>\n",
       "      <td>334</td>\n",
       "      <td>420</td>\n",
       "      <td>423</td>\n",
       "      <td>263</td>\n",
       "      <td>46724580</td>\n",
       "    </tr>\n",
       "    <tr>\n",
       "      <th>3</th>\n",
       "      <td>31</td>\n",
       "      <td>1</td>\n",
       "      <td>0</td>\n",
       "      <td>1</td>\n",
       "      <td>633</td>\n",
       "      <td>58</td>\n",
       "      <td>335</td>\n",
       "      <td>434</td>\n",
       "      <td>434</td>\n",
       "      <td>275</td>\n",
       "      <td>51797900</td>\n",
       "    </tr>\n",
       "    <tr>\n",
       "      <th>4</th>\n",
       "      <td>24</td>\n",
       "      <td>2</td>\n",
       "      <td>0</td>\n",
       "      <td>5</td>\n",
       "      <td>628</td>\n",
       "      <td>57</td>\n",
       "      <td>336</td>\n",
       "      <td>394</td>\n",
       "      <td>396</td>\n",
       "      <td>248</td>\n",
       "      <td>38693952</td>\n",
       "    </tr>\n",
       "    <tr>\n",
       "      <th>...</th>\n",
       "      <td>...</td>\n",
       "      <td>...</td>\n",
       "      <td>...</td>\n",
       "      <td>...</td>\n",
       "      <td>...</td>\n",
       "      <td>...</td>\n",
       "      <td>...</td>\n",
       "      <td>...</td>\n",
       "      <td>...</td>\n",
       "      <td>...</td>\n",
       "      <td>...</td>\n",
       "    </tr>\n",
       "    <tr>\n",
       "      <th>46705</th>\n",
       "      <td>72</td>\n",
       "      <td>4</td>\n",
       "      <td>6</td>\n",
       "      <td>2</td>\n",
       "      <td>608</td>\n",
       "      <td>57</td>\n",
       "      <td>2757</td>\n",
       "      <td>575</td>\n",
       "      <td>576</td>\n",
       "      <td>350</td>\n",
       "      <td>115920000</td>\n",
       "    </tr>\n",
       "    <tr>\n",
       "      <th>46706</th>\n",
       "      <td>72</td>\n",
       "      <td>1</td>\n",
       "      <td>6</td>\n",
       "      <td>2</td>\n",
       "      <td>631</td>\n",
       "      <td>55</td>\n",
       "      <td>2757</td>\n",
       "      <td>569</td>\n",
       "      <td>575</td>\n",
       "      <td>361</td>\n",
       "      <td>118110175</td>\n",
       "    </tr>\n",
       "    <tr>\n",
       "      <th>46707</th>\n",
       "      <td>70</td>\n",
       "      <td>2</td>\n",
       "      <td>6</td>\n",
       "      <td>2</td>\n",
       "      <td>628</td>\n",
       "      <td>60</td>\n",
       "      <td>2757</td>\n",
       "      <td>566</td>\n",
       "      <td>568</td>\n",
       "      <td>356</td>\n",
       "      <td>114449728</td>\n",
       "    </tr>\n",
       "    <tr>\n",
       "      <th>46708</th>\n",
       "      <td>86</td>\n",
       "      <td>3</td>\n",
       "      <td>5</td>\n",
       "      <td>1</td>\n",
       "      <td>610</td>\n",
       "      <td>58</td>\n",
       "      <td>2757</td>\n",
       "      <td>615</td>\n",
       "      <td>612</td>\n",
       "      <td>374</td>\n",
       "      <td>140766120</td>\n",
       "    </tr>\n",
       "    <tr>\n",
       "      <th>46709</th>\n",
       "      <td>75</td>\n",
       "      <td>4</td>\n",
       "      <td>6</td>\n",
       "      <td>1</td>\n",
       "      <td>622</td>\n",
       "      <td>55</td>\n",
       "      <td>2757</td>\n",
       "      <td>583</td>\n",
       "      <td>587</td>\n",
       "      <td>364</td>\n",
       "      <td>124568444</td>\n",
       "    </tr>\n",
       "  </tbody>\n",
       "</table>\n",
       "<p>46710 rows × 11 columns</p>\n",
       "</div>"
      ],
      "text/plain": [
       "       carat  cut  color  clarity  depth  table  price    x    y    z  \\\n",
       "0         23    4      3        1    615     55    326  395  398  243   \n",
       "1         21    3      3        2    598     61    326  389  384  231   \n",
       "2         28    3      1        3    624     58    334  420  423  263   \n",
       "3         31    1      0        1    633     58    335  434  434  275   \n",
       "4         24    2      0        5    628     57    336  394  396  248   \n",
       "...      ...  ...    ...      ...    ...    ...    ...  ...  ...  ...   \n",
       "46705     72    4      6        2    608     57   2757  575  576  350   \n",
       "46706     72    1      6        2    631     55   2757  569  575  361   \n",
       "46707     70    2      6        2    628     60   2757  566  568  356   \n",
       "46708     86    3      5        1    610     58   2757  615  612  374   \n",
       "46709     75    4      6        1    622     55   2757  583  587  364   \n",
       "\n",
       "               v  \n",
       "0       38202030  \n",
       "1       34505856  \n",
       "2       46724580  \n",
       "3       51797900  \n",
       "4       38693952  \n",
       "...          ...  \n",
       "46705  115920000  \n",
       "46706  118110175  \n",
       "46707  114449728  \n",
       "46708  140766120  \n",
       "46709  124568444  \n",
       "\n",
       "[46710 rows x 11 columns]"
      ]
     },
     "execution_count": 6,
     "metadata": {},
     "output_type": "execute_result"
    }
   ],
   "source": [
    "data= pd.read_csv('1dataset.csv')\n",
    "data"
   ]
  },
  {
   "cell_type": "code",
   "execution_count": 7,
   "metadata": {},
   "outputs": [],
   "source": [
    "# y = data[\"price\"]\n",
    "# X = data.drop([\"price\"], axis=1)\n",
    "# y"
   ]
  },
  {
   "cell_type": "code",
   "execution_count": 8,
   "metadata": {},
   "outputs": [],
   "source": [
    "# from sklearn.model_selection import train_test_split\n",
    "# X_train, X_test, y_train, y_test = train_test_split(X, y, test_size=0.2)"
   ]
  },
  {
   "cell_type": "code",
   "execution_count": 9,
   "metadata": {},
   "outputs": [],
   "source": [
    "# X_train.shape, y_train.shape, X_test.shape, y_test.shape"
   ]
  },
  {
   "cell_type": "code",
   "execution_count": 10,
   "metadata": {},
   "outputs": [],
   "source": [
    "# from sklearn.linear_model import LinearRegression, Lasso, Ridge \n",
    "# from sklearn.metrics import mean_squared_error, mean_absolute_error, mean_absolute_percentage_error, r2_score, accuracy_score, f1_score\n",
    "# from math import sqrt\n",
    "# lr = LinearRegression().fit(X_train, y_train)\n",
    "# lr.predict(X_test)\n",
    "# y_pred = lr.predict(X_test)\n"
   ]
  },
  {
   "cell_type": "code",
   "execution_count": 11,
   "metadata": {},
   "outputs": [],
   "source": [
    "# print(f'MAE: {mean_absolute_error(y_test, y_pred)}')\n",
    "# print(f'MSE: {mean_squared_error(y_test, y_pred)}')\n",
    "# print(f'RMSE: {sqrt(mean_squared_error(y_test, y_pred))}')\n",
    "# print(f'MAPE: {sqrt(mean_absolute_percentage_error(y_test, y_pred))}')\n",
    "# print(f'R^2: {r2_score(X_test, y_test)}')"
   ]
  },
  {
   "cell_type": "code",
   "execution_count": 12,
   "metadata": {},
   "outputs": [
    {
     "name": "stdout",
     "output_type": "stream",
     "text": [
      "MAE: 561.439770256704\n",
      "MSE: 670719.3000073698\n",
      "RMSE: 818.9745417333618\n",
      "MAPE: 0.3044702244625312\n",
      "R^2: 0.9030728543544602\n"
     ]
    }
   ],
   "source": [
    "\n",
    "import pandas as pd\n",
    "from sklearn.model_selection import train_test_split\n",
    "from sklearn.linear_model import LinearRegression, Ridge, Lasso\n",
    "from sklearn.metrics import mean_squared_error, mean_absolute_error, mean_absolute_percentage_error, r2_score\n",
    "from math import sqrt\n",
    "\n",
    "\n",
    "\n",
    "# Разделение на признаки и целевую переменную\n",
    "y = data[\"price\"]\n",
    "X = data.drop([\"price\"], axis=1)\n",
    "\n",
    "# Разделение на обучающую и тестовую выборки\n",
    "X_train, X_test, y_train, y_test = train_test_split(X, y, test_size=0.2, random_state=42)\n",
    "\n",
    "# Обучение модели\n",
    "lr = LinearRegression().fit(X_train, y_train)\n",
    "\n",
    "# Предсказание\n",
    "y_pred = lr.predict(X_test)\n",
    "\n",
    "# Вывод метрик\n",
    "print(f'MAE: {mean_absolute_error(y_test, y_pred)}')\n",
    "print(f'MSE: {mean_squared_error(y_test, y_pred)}')\n",
    "print(f'RMSE: {sqrt(mean_squared_error(y_test, y_pred))}')\n",
    "print(f'MAPE: {mean_absolute_percentage_error(y_test, y_pred)}')\n",
    "print(f'R^2: {r2_score(y_test, y_pred)}')\n"
   ]
  },
  {
   "cell_type": "code",
   "execution_count": 13,
   "metadata": {},
   "outputs": [
    {
     "data": {
      "text/plain": [
       "array([ 2.65464785e+01,  4.80733778e+01,  1.35940577e+02,  3.38770849e+02,\n",
       "        1.17204947e+01,  1.17802613e+00, -4.31464055e+00,  1.11711545e+01,\n",
       "       -2.45269028e+01,  4.25447970e-05])"
      ]
     },
     "execution_count": 13,
     "metadata": {},
     "output_type": "execute_result"
    }
   ],
   "source": [
    "len(lr.coef_)\n",
    "lr.coef_"
   ]
  },
  {
   "cell_type": "code",
   "execution_count": 14,
   "metadata": {},
   "outputs": [
    {
     "name": "stdout",
     "output_type": "stream",
     "text": [
      "MAE: 561.438947495564\n",
      "MSE: 670719.3134515652\n",
      "RMSE: 818.9745499413063\n",
      "MAPE: 0.5517868483829789\n",
      "R^2: 0.9030728524116094\n"
     ]
    },
    {
     "data": {
      "text/plain": [
       "array([ 2.65462763e+01,  4.80726733e+01,  1.35939665e+02,  3.38768703e+02,\n",
       "        1.17203993e+01,  1.17771922e+00, -4.31468729e+00,  1.11711323e+01,\n",
       "       -2.45268295e+01,  4.25449359e-05])"
      ]
     },
     "execution_count": 14,
     "metadata": {},
     "output_type": "execute_result"
    }
   ],
   "source": [
    "ridge = Ridge(alpha=0.5).fit(X_train, y_train)\n",
    "y_pred = ridge.predict(X_test)\n",
    "print(f'MAE: {mean_absolute_error(y_test, y_pred)}')\n",
    "print(f'MSE: {mean_squared_error(y_test, y_pred)}')\n",
    "print(f'RMSE: {sqrt(mean_squared_error(y_test, y_pred))}')\n",
    "print(f'MAPE: {sqrt(mean_absolute_percentage_error(y_test, y_pred))}')\n",
    "print(f'R^2: {ridge.score(X_test, y_test)}')\n",
    "ridge.coef_"
   ]
  },
  {
   "cell_type": "code",
   "execution_count": 15,
   "metadata": {},
   "outputs": [
    {
     "name": "stdout",
     "output_type": "stream",
     "text": [
      "MAE: 561.3799071761011\n",
      "MSE: 671189.9346189764\n",
      "RMSE: 819.2618229961508\n",
      "MAPE: 0.552058611698867\n",
      "R^2: 0.9030048418944869\n"
     ]
    },
    {
     "name": "stderr",
     "output_type": "stream",
     "text": [
      "c:\\Users\\user\\AppData\\Local\\Programs\\Python\\Python313\\Lib\\site-packages\\sklearn\\linear_model\\_coordinate_descent.py:695: ConvergenceWarning: Objective did not converge. You might want to increase the number of iterations, check the scale of the features or consider increasing regularisation. Duality gap: 1.232e+10, tolerance: 2.608e+07\n",
      "  model = cd_fast.enet_coordinate_descent(\n"
     ]
    },
    {
     "data": {
      "text/plain": [
       "array([ 3.79566145e+01,  4.65718005e+01,  1.35436439e+02,  3.39125829e+02,\n",
       "        8.36733868e+00, -3.25730051e+00, -4.42008439e+00,  8.70282201e+00,\n",
       "       -2.00032770e+01,  3.51491089e-05])"
      ]
     },
     "execution_count": 15,
     "metadata": {},
     "output_type": "execute_result"
    }
   ],
   "source": [
    "lasso = Lasso(alpha=0.5).fit(X_train, y_train)\n",
    "y_pred = lasso.predict(X_test)\n",
    "print(f'MAE: {mean_absolute_error(y_test, y_pred)}')\n",
    "print(f'MSE: {mean_squared_error(y_test, y_pred)}')\n",
    "print(f'RMSE: {sqrt(mean_squared_error(y_test, y_pred))}')\n",
    "print(f'MAPE: {sqrt(mean_absolute_percentage_error(y_test, y_pred))}')\n",
    "print(f'R^2: {lasso.score(X_test, y_test)}')\n",
    "lasso.coef_"
   ]
  },
  {
   "cell_type": "code",
   "execution_count": 16,
   "metadata": {},
   "outputs": [],
   "source": [
    "from sklearn.model_selection import GridSearchCV, RandomizedSearchCV\n",
    "import numpy as np"
   ]
  },
  {
   "cell_type": "code",
   "execution_count": 17,
   "metadata": {},
   "outputs": [],
   "source": [
    "parameters = {'alpha': np.arange(0, 1, 0.1)}"
   ]
  },
  {
   "cell_type": "code",
   "execution_count": 18,
   "metadata": {},
   "outputs": [
    {
     "data": {
      "text/plain": [
       "{'alpha': np.float64(0.9)}"
      ]
     },
     "execution_count": 18,
     "metadata": {},
     "output_type": "execute_result"
    }
   ],
   "source": [
    "ridge_optimal = GridSearchCV(Ridge(), parameters).fit(X_train, y_train)\n",
    "\n",
    "ridge_optimal.best_params_"
   ]
  },
  {
   "cell_type": "code",
   "execution_count": 19,
   "metadata": {},
   "outputs": [
    {
     "data": {
      "text/plain": [
       "{'alpha': np.float64(0.9)}"
      ]
     },
     "execution_count": 19,
     "metadata": {},
     "output_type": "execute_result"
    }
   ],
   "source": [
    "ridge_optimal = RandomizedSearchCV(Ridge(), parameters).fit(X_train, y_train)\n",
    "\n",
    "ridge_optimal.best_params_"
   ]
  },
  {
   "cell_type": "code",
   "execution_count": 20,
   "metadata": {},
   "outputs": [
    {
     "data": {
      "text/html": [
       "<div>\n",
       "<style scoped>\n",
       "    .dataframe tbody tr th:only-of-type {\n",
       "        vertical-align: middle;\n",
       "    }\n",
       "\n",
       "    .dataframe tbody tr th {\n",
       "        vertical-align: top;\n",
       "    }\n",
       "\n",
       "    .dataframe thead th {\n",
       "        text-align: right;\n",
       "    }\n",
       "</style>\n",
       "<table border=\"1\" class=\"dataframe\">\n",
       "  <thead>\n",
       "    <tr style=\"text-align: right;\">\n",
       "      <th></th>\n",
       "      <th>price</th>\n",
       "      <th>v</th>\n",
       "    </tr>\n",
       "  </thead>\n",
       "  <tbody>\n",
       "    <tr>\n",
       "      <th>42184</th>\n",
       "      <td>2048</td>\n",
       "      <td>110355840</td>\n",
       "    </tr>\n",
       "    <tr>\n",
       "      <th>7596</th>\n",
       "      <td>4401</td>\n",
       "      <td>175412930</td>\n",
       "    </tr>\n",
       "    <tr>\n",
       "      <th>5282</th>\n",
       "      <td>3921</td>\n",
       "      <td>146511904</td>\n",
       "    </tr>\n",
       "    <tr>\n",
       "      <th>15182</th>\n",
       "      <td>6617</td>\n",
       "      <td>201411236</td>\n",
       "    </tr>\n",
       "    <tr>\n",
       "      <th>11685</th>\n",
       "      <td>5342</td>\n",
       "      <td>153957814</td>\n",
       "    </tr>\n",
       "    <tr>\n",
       "      <th>32123</th>\n",
       "      <td>1019</td>\n",
       "      <td>67377800</td>\n",
       "    </tr>\n",
       "    <tr>\n",
       "      <th>32692</th>\n",
       "      <td>1052</td>\n",
       "      <td>55967296</td>\n",
       "    </tr>\n",
       "    <tr>\n",
       "      <th>26348</th>\n",
       "      <td>789</td>\n",
       "      <td>49954344</td>\n",
       "    </tr>\n",
       "    <tr>\n",
       "      <th>39817</th>\n",
       "      <td>1774</td>\n",
       "      <td>89641728</td>\n",
       "    </tr>\n",
       "    <tr>\n",
       "      <th>13730</th>\n",
       "      <td>6047</td>\n",
       "      <td>161945784</td>\n",
       "    </tr>\n",
       "  </tbody>\n",
       "</table>\n",
       "</div>"
      ],
      "text/plain": [
       "       price          v\n",
       "42184   2048  110355840\n",
       "7596    4401  175412930\n",
       "5282    3921  146511904\n",
       "15182   6617  201411236\n",
       "11685   5342  153957814\n",
       "32123   1019   67377800\n",
       "32692   1052   55967296\n",
       "26348    789   49954344\n",
       "39817   1774   89641728\n",
       "13730   6047  161945784"
      ]
     },
     "execution_count": 20,
     "metadata": {},
     "output_type": "execute_result"
    }
   ],
   "source": [
    "random_rows = data[['price', 'v']].sample(n=10)\n",
    "random_rows"
   ]
  },
  {
   "cell_type": "code",
   "execution_count": 21,
   "metadata": {},
   "outputs": [],
   "source": [
    "data2=pd.DataFrame({\n",
    "    'v':[56716858,117008178,94515120,98228700,95484420,49297248,246429324,50621760,175707680,247746600],\n",
    "    'price': [798,2514,1229,2527,1586,507,11129,936,5057,7255]\n",
    "})"
   ]
  },
  {
   "cell_type": "code",
   "execution_count": 22,
   "metadata": {},
   "outputs": [],
   "source": [
    "y = data2['price'].values.reshape(-1,1)\n",
    "# reshape здесь чисто технический, т. к. ожидается двумерный массив, а у нас 1 предиктор\n",
    "X = data2['v'].values.reshape(-1,1)"
   ]
  },
  {
   "cell_type": "code",
   "execution_count": 23,
   "metadata": {},
   "outputs": [
    {
     "data": {
      "text/plain": [
       "array([[4.37509639e-05]])"
      ]
     },
     "execution_count": 23,
     "metadata": {},
     "output_type": "execute_result"
    }
   ],
   "source": [
    "lr = LinearRegression().fit(X, y)\n",
    "lr.coef_"
   ]
  },
  {
   "cell_type": "code",
   "execution_count": 24,
   "metadata": {},
   "outputs": [
    {
     "data": {
      "text/plain": [
       "array([[1.00000000e+00, 5.67168580e+07, 3.21680198e+15],\n",
       "       [1.00000000e+00, 1.17008178e+08, 1.36909137e+16],\n",
       "       [1.00000000e+00, 9.45151200e+07, 8.93310791e+15],\n",
       "       [1.00000000e+00, 9.82287000e+07, 9.64887750e+15],\n",
       "       [1.00000000e+00, 9.54844200e+07, 9.11727446e+15],\n",
       "       [1.00000000e+00, 4.92972480e+07, 2.43021866e+15],\n",
       "       [1.00000000e+00, 2.46429324e+08, 6.07274117e+16],\n",
       "       [1.00000000e+00, 5.06217600e+07, 2.56256259e+15],\n",
       "       [1.00000000e+00, 1.75707680e+08, 3.08731888e+16],\n",
       "       [1.00000000e+00, 2.47746600e+08, 6.13783778e+16]])"
      ]
     },
     "execution_count": 24,
     "metadata": {},
     "output_type": "execute_result"
    }
   ],
   "source": [
    "from sklearn.preprocessing import PolynomialFeatures\n",
    "# создаем объект, который позволит расширить множество предикторов\n",
    "p = PolynomialFeatures(2)\n",
    "# добавляем новые предикторы\n",
    "X_p=p.fit_transform(X)\n",
    "X_p"
   ]
  },
  {
   "cell_type": "code",
   "execution_count": 25,
   "metadata": {},
   "outputs": [
    {
     "data": {
      "text/plain": [
       "array([[0.00000000e+00, 7.76270358e-06, 1.19312995e-13]])"
      ]
     },
     "execution_count": 25,
     "metadata": {},
     "output_type": "execute_result"
    }
   ],
   "source": [
    "lr2 = LinearRegression().fit(X_p, y)\n",
    "lr2.coef_"
   ]
  },
  {
   "cell_type": "code",
   "execution_count": 26,
   "metadata": {},
   "outputs": [
    {
     "data": {
      "text/plain": [
       "array([[ 440.27615661],\n",
       "       [ 908.29980218],\n",
       "       [ 733.69286033],\n",
       "       [ 762.52028109],\n",
       "       [ 741.21724891],\n",
       "       [ 382.6799235 ],\n",
       "       [1912.95779547],\n",
       "       [ 392.96171755],\n",
       "       [1363.96663646],\n",
       "       [1923.18341859]])"
      ]
     },
     "execution_count": 26,
     "metadata": {},
     "output_type": "execute_result"
    }
   ],
   "source": [
    "X_d = X\n",
    "y_d = lr2.coef_[0][2] + lr2.coef_[0][1]*X_d + lr2.coef_[0][0]*X_d**2\n",
    "y_d"
   ]
  },
  {
   "cell_type": "code",
   "execution_count": 27,
   "metadata": {},
   "outputs": [
    {
     "data": {
      "text/plain": [
       "<matplotlib.legend.Legend at 0x16cd1431d30>"
      ]
     },
     "execution_count": 27,
     "metadata": {},
     "output_type": "execute_result"
    },
    {
     "data": {
      "image/png": "[encoded data removed]",
      "text/plain": [
       "<Figure size 640x480 with 1 Axes>"
      ]
     },
     "metadata": {},
     "output_type": "display_data"
    }
   ],
   "source": [
    "import matplotlib.pyplot as plt\n",
    "plt.scatter(X, y, label='Истинные значения');\n",
    "plt.plot(X, lr.predict(X), label='Предсказанные значения (линейная регрессия)');\n",
    "plt.scatter(X, lr2.predict(X_p), label='Предсказанные значения (полиномиальная регрессия)');\n",
    "plt.legend()"
   ]
  }
 ],
 "metadata": {
  "kernelspec": {
   "display_name": "Python 3",
   "language": "python",
   "name": "python3"
  },
  "language_info": {
   "codemirror_mode": {
    "name": "ipython",
    "version": 3
   },
   "file_extension": ".py",
   "mimetype": "text/x-python",
   "name": "python",
   "nbconvert_exporter": "python",
   "pygments_lexer": "ipython3",
   "version": "3.13.2"
  }
 },
 "nbformat": 4,
 "nbformat_minor": 2
}
