{
 "cells": [
  {
   "cell_type": "code",
   "execution_count": 176,
   "id": "621ece90",
   "metadata": {},
   "outputs": [],
   "source": [
    "import sympy as sp\n",
    "import numpy as np\n",
    "from scipy.optimize import linprog\n",
    "\n",
    "x0, x1, x2 = sp.symbols('x0 x1 x2')\n",
    "x_sym = [x0, x1, x2]\n",
    "x_ = [1, -1, 0] \n",
    "\n",
    "f0 = [0.5*x0**2 + x1**2 + 3*x2**2 - 2*x1*x2 + 4, 'max'] \n",
    "\n",
    "restricts_sym = [\n",
    "    1.5*x0**2 + 4*x1**2 + 2.5*x2**2 + 2*x0*x2, \n",
    "    2*x0**2 + 3*x1**2 + 0.5*x2**2 + 2*x0*x1,   \n",
    "    2*x0 + x1 - 2*x2 \n",
    "]\n",
    "\n",
    "restrict_val = [7, 3, 2]"
   ]
  },
  {
   "cell_type": "code",
   "execution_count": 177,
   "id": "e73fc209",
   "metadata": {},
   "outputs": [],
   "source": [
    "# Вычисляется целевой функции градиент\n",
    "def compute_derivates(variables, restrictions, selected_indices=None):\n",
    "    if selected_indices is None:\n",
    "        selected_indices = range(len(restrictions))\n",
    "    return [[sp.diff(restrictions[i], var) for var in variables] for i in selected_indices]"
   ]
  },
  {
   "cell_type": "code",
   "execution_count": 178,
   "id": "a9996ef0",
   "metadata": {},
   "outputs": [],
   "source": [
    "def compute_derivate_in_func(function, variables):\n",
    "    return [sp.diff(function, var) for var in variables]"
   ]
  },
  {
   "cell_type": "code",
   "execution_count": 179,
   "id": "4943c40e",
   "metadata": {},
   "outputs": [],
   "source": [
    "# Подставляются заданная точка в градиент \n",
    "def substitute_derivates(derivates):\n",
    "    if isinstance(derivates[0], list):\n",
    "        derivates_substituted = []\n",
    "        for der in derivates:\n",
    "            substituted_gradient = [expr.subs({x0: x_[0], x1: x_[1], x2: x_[2]}).evalf() for expr in der]\n",
    "            derivates_substituted.append(substituted_gradient)\n",
    "        return derivates_substituted\n",
    "    else:\n",
    "        return [expr.subs({x0: x_[0], x1: x_[1], x2: x_[2]}).evalf() for expr in derivates]"
   ]
  },
  {
   "cell_type": "code",
   "execution_count": 180,
   "id": "e0ac2994",
   "metadata": {},
   "outputs": [],
   "source": [
    "equals = []\n",
    "for i, restrict in enumerate(restricts_sym):\n",
    "    val = restrict.subs({x0: x_[0], x1: x_[1], x2: x_[2]})\n",
    "    if val == restrict_val[i]:\n",
    "        equals.append(i)"
   ]
  },
  {
   "cell_type": "code",
   "execution_count": 181,
   "id": "da0d8ff8",
   "metadata": {},
   "outputs": [],
   "source": [
    "if not equals:\n",
    "    print(\"Нет активных ограничений. Все направления возможны.\")"
   ]
  },
  {
   "cell_type": "code",
   "execution_count": 182,
   "id": "298debfe",
   "metadata": {},
   "outputs": [
    {
     "name": "stdout",
     "output_type": "stream",
     "text": [
      "[[4*x0 + 2*x1, 2*x0 + 6*x1, 1.0*x2]]\n",
      "[[2.00000000000000, -4.00000000000000, 0]]\n"
     ]
    }
   ],
   "source": [
    "# Вычисление градиентов активных ограничений\n",
    "derivates = compute_derivates([x0, x1, x2], restrictions=restricts_sym, selected_indices=equals)\n",
    "derivates_substituted = substitute_derivates(derivates)\n",
    "print(derivates)\n",
    "print(derivates_substituted)"
   ]
  },
  {
   "cell_type": "code",
   "execution_count": 183,
   "id": "4710a64c",
   "metadata": {},
   "outputs": [],
   "source": [
    "def formulate_lp_problem(func_gradient, constraint_gradients):\n",
    "    n = len(func_gradient)\n",
    "    c = [-float(g) for g in func_gradient]  # Минимизация (-∇f) для максимизации <∇f, z>\n",
    "\n",
    "    # Ограничения для активных ограничений\n",
    "    A_ub = []\n",
    "    b_ub = []\n",
    "    for i, grad in enumerate(constraint_gradients):\n",
    "        grad = [float(g) for g in grad]\n",
    "        if i < len(equals) and equals[i] == 2:  # Если ограничение - равенство (g3)\n",
    "            A_ub.append(grad)\n",
    "            b_ub.append(0)\n",
    "            A_ub.append([-g for g in grad])  # Для равенства добавляем -∇g_i * z <= 0\n",
    "            b_ub.append(0)\n",
    "        else:  # Для неравенств\n",
    "            A_ub.append(grad)\n",
    "            b_ub.append(0)\n",
    "\n",
    "    A_bound = np.vstack([np.eye(n), -np.eye(n)])\n",
    "    b_bound = [1] * n + [1] * n\n",
    "\n",
    "    A_ub = np.vstack(A_ub + [A_bound]) if A_ub else A_bound\n",
    "    b_ub = b_ub + b_bound\n",
    "\n",
    "    return c, A_ub, b_ub"
   ]
  },
  {
   "cell_type": "code",
   "execution_count": 184,
   "id": "78fbdd69",
   "metadata": {},
   "outputs": [],
   "source": [
    "def solve_lp_problem(c, A_ub, b_ub):\n",
    "\n",
    "    res = linprog(c, A_ub=A_ub, b_ub=b_ub, method='highs')\n",
    "    if res.success:\n",
    "        return res.x\n",
    "    else:\n",
    "        print(\"Задача ЛП не имеет решения.\")\n",
    "        return None"
   ]
  },
  {
   "cell_type": "code",
   "execution_count": 185,
   "id": "b2f5b5aa",
   "metadata": {},
   "outputs": [],
   "source": [
    "def compute_step_size(x_current, z_direction, f):\n",
    "    alpha = sp.Symbol('alpha')\n",
    "    valid_alphas = []\n",
    "    x_new = [x_current[i] + alpha * z_direction[i] for i in range(len(x_current))]\n",
    "    f = f[0].subs({x0: x_new[0], x1: x_new[1], x2: x_new[2]})\n",
    "    f_prime = sp.diff(f, alpha)\n",
    "    solutions = sp.solve(f_prime, alpha)\n",
    "    for sol in solutions:\n",
    "        try:\n",
    "            if sol >= 0:\n",
    "                valid_alphas.append(sol)\n",
    "        except:\n",
    "            continue\n",
    "\n",
    "        if valid_alphas:\n",
    "            return min(valid_alphas)\n",
    "        return 0"
   ]
  },
  {
   "cell_type": "code",
   "execution_count": 186,
   "id": "1be3e402",
   "metadata": {},
   "outputs": [],
   "source": [
    "def zoutendijk_method(x_initial, f, restrictions, restrict_vals, max_iterations=100, tol=1e-6):\n",
    "    x_current = x_initial.copy()\n",
    "    iteration = 0\n",
    "\n",
    "    while iteration < max_iterations:\n",
    "        print(f\"\\nИтерация {iteration + 1}: x = {x_current}\")\n",
    "\n",
    "        equals = []\n",
    "        for i, restrict in enumerate(restricts_sym):\n",
    "            val = restrict.subs({x0: x_[0], x1: x_[1], x2: x_[2]})\n",
    "            if val == restrict_val[i]:\n",
    "                equals.append(i)\n",
    "\n",
    "        # Вычисление градиентов\n",
    "        derivates = compute_derivates([x0, x1, x2], restrictions, selected_indices=equals)\n",
    "        derivates_substituted = substitute_derivates(derivates)\n",
    "        func_derivate = compute_derivate_in_func(f[0], x_sym)\n",
    "        func_substitude_derivate = substitute_derivates(func_derivate)\n",
    "\n",
    "        # Формирование и решение задачи ЛП\n",
    "        c, A_ub, b_ub = formulate_lp_problem(func_substitude_derivate, derivates_substituted)\n",
    "        z_direction = solve_lp_problem(c, A_ub, b_ub)\n",
    "        print(f'S  = {z_direction}')\n",
    "        print(f'x = {x_current}')\n",
    "        if [z_direction[i] * x_current[i] == 0 for i in range(len(x_current))]:\n",
    "            print(\"Условие выхода\")\n",
    "            return x_current\n",
    "        \n",
    "        if z_direction is None or np.linalg.norm(z_direction) < tol:\n",
    "            print(\"Достигнута сходимость или нет допустимого направления.\")\n",
    "            break\n",
    "\n",
    "        # Вычисление длины шага\n",
    "        alpha = compute_step_size(x_current, z_direction, f)\n",
    "        print(f\"Направление z = {z_direction}, шаг α = {alpha}\")\n",
    "\n",
    "        # Обновление точки\n",
    "        x_current = [x_current[i] + alpha * z_direction[i] for i in range(len(x_current))]\n",
    "\n",
    "        # Проверка сходимости по градиенту или шагу\n",
    "        if alpha < tol:\n",
    "            print(\"Сходимость по малому шагу.\")\n",
    "            break\n",
    "\n",
    "        iteration += 1\n",
    "\n",
    "    return x_current\n"
   ]
  },
  {
   "cell_type": "code",
   "execution_count": 187,
   "id": "cf29ac7f",
   "metadata": {},
   "outputs": [
    {
     "name": "stdout",
     "output_type": "stream",
     "text": [
      "\n",
      "Итерация 1: x = [1, -1, 0]\n",
      "S  = [ 0. -0.  1.]\n",
      "x = [1, -1, 0]\n",
      "Условие выхода\n",
      "\n",
      "Оптимальная точка: x = [1, -1, 0]\n",
      "Значение целевой функции: 5.50000000000000\n"
     ]
    }
   ],
   "source": [
    "x_optimal = zoutendijk_method(x_, f0, restricts_sym, restrict_val)\n",
    "print(f\"\\nОптимальная точка: x = {x_optimal}\")\n",
    "print(f\"Значение целевой функции: {f0[0].subs({x0: x_optimal[0], x1: x_optimal[1], x2: x_optimal[2]}).evalf()}\")"
   ]
  }
 ],
 "metadata": {
  "kernelspec": {
   "display_name": "Python 3",
   "language": "python",
   "name": "python3"
  },
  "language_info": {
   "codemirror_mode": {
    "name": "ipython",
    "version": 3
   },
   "file_extension": ".py",
   "mimetype": "text/x-python",
   "name": "python",
   "nbconvert_exporter": "python",
   "pygments_lexer": "ipython3",
   "version": "3.13.3"
  }
 },
 "nbformat": 4,
 "nbformat_minor": 5
}
