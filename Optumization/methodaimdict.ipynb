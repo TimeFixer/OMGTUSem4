{
 "cells": [
  {
   "cell_type": "code",
   "execution_count": 28,
   "id": "2c853e82",
   "metadata": {},
   "outputs": [],
   "source": [
    "import sympy as sp"
   ]
  },
  {
   "cell_type": "code",
   "execution_count": 29,
   "id": "a68254c8",
   "metadata": {},
   "outputs": [],
   "source": [
    "x0, x1, x2 = sp.symbols('x0 x1 x2')\n",
    "x_sym = [x0, x1, x2]\n",
    "x_ = [1,-1,0]\n",
    "\n",
    "f0 = [0.5*x0**2 + x1**2 + 3*x2**2 - 2*x1*x2 + 4, 'max']\n",
    "\n",
    "# Определяем символьные переменные\n",
    "\n",
    "# Задаём ограничения (в символьном виде)\n",
    "restricts_sym = [\n",
    "    1.5*x0**2 + 4*x1**2 + 2.5*x2**2 + 2*x0*x2,\n",
    "    2*x0**2 + 3*x1**2 + 0.5*x2**2 + 2*x0*x1,\n",
    "    2*x0 + x1 - 2*x2\n",
    "]\n",
    "\n",
    "restrict_val = [7,3,2]\n",
    "z = [[0,1,1],[-1,0,-1],[-1,1,1]]"
   ]
  },
  {
   "cell_type": "code",
   "execution_count": 30,
   "id": "d61674f9",
   "metadata": {},
   "outputs": [],
   "source": [
    "def compute_derivates(variables, restrictions, selected_indices=None):\n",
    "#Вычисляет градиенты для выбранных ограничений по заданным переменным.\n",
    "\n",
    "    if selected_indices is None:\n",
    "        selected_indices = range(len(restrictions))\n",
    "    \n",
    "    return [\n",
    "        [sp.diff(restrictions[i], var) for var in variables]\n",
    "        for i in selected_indices\n",
    "    ]\n",
    "\n",
    "def compute_derivate_in_func(function, variables):\n",
    "#Вычисляет градиент (вектор частных производных) для заданной функции.\n",
    "\n",
    "    return [sp.diff(function, var) for var in variables]"
   ]
  },
  {
   "cell_type": "code",
   "execution_count": 31,
   "id": "1f96b3f1",
   "metadata": {},
   "outputs": [],
   "source": [
    "equals = []\n",
    "for i, restrict in enumerate(restricts_sym):\n",
    "    val = restrict.subs({x0: x_[0], x1: x_[1], x2: x_[2]})\n",
    "    if val == restrict_val[i]:\n",
    "        equals.append(i)"
   ]
  },
  {
   "cell_type": "code",
   "execution_count": 32,
   "id": "95f83210",
   "metadata": {},
   "outputs": [],
   "source": [
    "if not equals:\n",
    "    print(\"Нет активных ограничений. Все направления возможны.\")"
   ]
  },
  {
   "cell_type": "code",
   "execution_count": 33,
   "id": "1031c3b4",
   "metadata": {},
   "outputs": [],
   "source": [
    "derivates = compute_derivates([x0, x1, x2], restrictions = restricts_sym, \n",
    "                              selected_indices = equals)"
   ]
  },
  {
   "cell_type": "code",
   "execution_count": 34,
   "id": "3f4f2817",
   "metadata": {},
   "outputs": [],
   "source": [
    "def substitute_derivates(derivates):\n",
    "#Подставляет значения x_ в градиенты.\n",
    "\n",
    "    if isinstance(derivates[0], list):  # Если это список градиентов\n",
    "        derivates_substituted = []\n",
    "        for der in derivates:\n",
    "            substituted_gradient = [\n",
    "                expr.subs({x0: x_[0], x1: x_[1], x2: x_[2]}).evalf()\n",
    "                for expr in der\n",
    "            ]\n",
    "            derivates_substituted.append(substituted_gradient)\n",
    "        return derivates_substituted\n",
    "    else:  # Если это один градиент\n",
    "        return [\n",
    "            expr.subs({x0: x_[0], x1: x_[1], x2: x_[2]}).evalf()\n",
    "            for expr in derivates\n",
    "        ]"
   ]
  },
  {
   "cell_type": "code",
   "execution_count": 35,
   "id": "b628a148",
   "metadata": {},
   "outputs": [],
   "source": [
    "derivates_substituted = substitute_derivates(derivates)"
   ]
  },
  {
   "cell_type": "code",
   "execution_count": 36,
   "id": "0ca97d2a",
   "metadata": {},
   "outputs": [],
   "source": [
    "z0, z1, z2 = sp.symbols('z0 z1 z2')\n",
    "z_sym = [z0, z1, z2]"
   ]
  },
  {
   "cell_type": "code",
   "execution_count": 37,
   "id": "1c96adf1",
   "metadata": {},
   "outputs": [],
   "source": [
    "def scalar_product(arr_substituted):\n",
    "\n",
    "    z_expressions = []\n",
    "\n",
    "    for derivate in arr_substituted:\n",
    "        # Вычисляем скалярное произведение derivate и z_sym\n",
    "        product = sum(d * z for d, z in zip(derivate, z_sym))\n",
    "        z_expressions.append(product)\n",
    "\n",
    "    return z_expressions"
   ]
  },
  {
   "cell_type": "code",
   "execution_count": 38,
   "id": "e0cdeeb7",
   "metadata": {},
   "outputs": [],
   "source": [
    "def get_results(arr_substituted):\n",
    "    z_expressions = scalar_product(arr_substituted)\n",
    "    results = []\n",
    "\n",
    "    for expr in z_expressions:\n",
    "        expr_results = []  # Результаты для текущего выражения\n",
    "        \n",
    "        for z_vec in z:\n",
    "            # Подставляем z0, z1, z2 из z в выражение\n",
    "            res_substitution = expr.subs({\n",
    "                z0: z_vec[0],\n",
    "                z1: z_vec[1],\n",
    "                z2: z_vec[2]\n",
    "            })\n",
    "            expr_results.append(res_substitution)\n",
    "        \n",
    "        results.append(expr_results) \n",
    "    \n",
    "    return results\n",
    "\n",
    "def get_func_result(func_derivate, z_vectors):\n",
    "    product = sum(d * z for d, z in zip(func_derivate, z_sym))\n",
    "    return [product.subs({z0: z_vec[0], z1: z_vec[1], z2: z_vec[2]}).evalf() for z_vec in z_vectors]"
   ]
  },
  {
   "cell_type": "code",
   "execution_count": 39,
   "id": "16c91c6a",
   "metadata": {},
   "outputs": [],
   "source": [
    "results = get_results(derivates_substituted)"
   ]
  },
  {
   "cell_type": "code",
   "execution_count": 40,
   "id": "86e86167",
   "metadata": {},
   "outputs": [],
   "source": [
    "def check_result(results, is_function=False):\n",
    "    for i, res_substitution in enumerate(results):\n",
    "        if is_function:\n",
    "            print(f'Для целевой функции:')\n",
    "            \n",
    "        else:\n",
    "            print(f'Для активного ограничения {equals[i] + 1}:')\n",
    "\n",
    "        for j, direction in enumerate(res_substitution):\n",
    "            direction = direction.evalf()\n",
    "            if is_function and direction < 0:\n",
    "                print(f'\\tНаправление z{j + 1} является спусковым')\n",
    "            elif not is_function and direction < 0:  # Для ограничений\n",
    "                print(f'\\tНаправление z{j + 1} возможно')"
   ]
  },
  {
   "cell_type": "code",
   "execution_count": 41,
   "id": "b5a9f4d7",
   "metadata": {},
   "outputs": [
    {
     "name": "stdout",
     "output_type": "stream",
     "text": [
      "Для активного ограничения 2:\n",
      "\tНаправление z1 возможно\n",
      "\tНаправление z2 возможно\n",
      "\tНаправление z3 возможно\n"
     ]
    }
   ],
   "source": [
    "check_result(results)"
   ]
  },
  {
   "cell_type": "code",
   "execution_count": 42,
   "id": "728d6613",
   "metadata": {},
   "outputs": [
    {
     "name": "stdout",
     "output_type": "stream",
     "text": [
      "Для целевой функции:\n",
      "\tНаправление z2 является спусковым\n",
      "\tНаправление z3 является спусковым\n"
     ]
    }
   ],
   "source": [
    "func_derivate = compute_derivate_in_func(f0[0], x_sym)\n",
    "func_substitude_derivate = substitute_derivates(func_derivate)\n",
    "func_result = get_func_result(func_substitude_derivate, z)\n",
    "check_result([func_result], is_function=True)"
   ]
  }
 ],
 "metadata": {
  "kernelspec": {
   "display_name": "Python 3",
   "language": "python",
   "name": "python3"
  },
  "language_info": {
   "codemirror_mode": {
    "name": "ipython",
    "version": 3
   },
   "file_extension": ".py",
   "mimetype": "text/x-python",
   "name": "python",
   "nbconvert_exporter": "python",
   "pygments_lexer": "ipython3",
   "version": "3.13.3"
  }
 },
 "nbformat": 4,
 "nbformat_minor": 5
}
