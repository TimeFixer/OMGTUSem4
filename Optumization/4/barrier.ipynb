{
 "cells": [
  {
   "cell_type": "code",
   "execution_count": 1,
   "id": "d4b21d89",
   "metadata": {},
   "outputs": [],
   "source": [
    "import numpy as np\n",
    "import math\n",
    "\n",
    "x_0 = np.array([2.0, 4.0])\n",
    "epsilon = 0.05\n",
    "a = 0.01  \n",
    "M = 1000\n",
    "max_iter = 1\n",
    "\n",
    "def func(x):\n",
    "    return 4 * x[0] - x[1]**2 - 12\n",
    "\n",
    "def restriction(x):\n",
    "    return [\n",
    "        10 * x[0] - x[0]**2 + 10 * x[1] - x[1]**2 - 34, \n",
    "        x[0],\n",
    "        x[1]   \n",
    "    ]"
   ]
  },
  {
   "cell_type": "code",
   "execution_count": 2,
   "id": "23009fc3",
   "metadata": {},
   "outputs": [],
   "source": [
    "def barrier(x):\n",
    "    return -sum(math.log(r) for r in restriction(x))"
   ]
  },
  {
   "cell_type": "code",
   "execution_count": 3,
   "id": "3d6ab110",
   "metadata": {},
   "outputs": [],
   "source": [
    "def objective(x, M):\n",
    "    return func(x) + M * barrier(x)"
   ]
  },
  {
   "cell_type": "code",
   "execution_count": 4,
   "id": "51967793",
   "metadata": {},
   "outputs": [],
   "source": [
    "def numerical_gradient(f, x, h=1e-6):\n",
    "    grad = np.zeros_like(x)\n",
    "    for i in range(len(x)):\n",
    "        x_plus = x.copy()\n",
    "        x_minus = x.copy()\n",
    "        x_plus[i] += h\n",
    "        x_minus[i] -= h\n",
    "        grad[i] = (f(x_plus) - f(x_minus)) / (2 * h)\n",
    "    return grad\n"
   ]
  },
  {
   "cell_type": "code",
   "execution_count": 5,
   "id": "afe36b11",
   "metadata": {},
   "outputs": [
    {
     "name": "stdout",
     "output_type": "stream",
     "text": [
      "Найденное решение: [16.96000001  9.91333334]\n"
     ]
    }
   ],
   "source": [
    "def main(x_0, epsilon, a, M, max_iter):\n",
    "    x = x_0.copy()\n",
    "    iter_count = 0\n",
    "    \n",
    "    while iter_count < max_iter:\n",
    "        grad = numerical_gradient(lambda x: objective(x, M), x)\n",
    "        \n",
    "        x_new = x - a * grad\n",
    "        \n",
    "        if np.abs(func(x_new) - func(x)) < epsilon:\n",
    "            return x_new\n",
    "        \n",
    "        x = x_new\n",
    "        iter_count += 1\n",
    "    \n",
    "    return x\n",
    "\n",
    "\n",
    "if any(r <= 0 for r in restriction(x_0)):\n",
    "    print(\"Ошибка: начальная точка не удовлетворяет ограничениям\")\n",
    "else:\n",
    "    result = main(x_0, epsilon, a, M, max_iter)\n",
    "    print(\"Найденное решение:\", result)\n"
   ]
  }
 ],
 "metadata": {
  "kernelspec": {
   "display_name": "Python 3",
   "language": "python",
   "name": "python3"
  },
  "language_info": {
   "codemirror_mode": {
    "name": "ipython",
    "version": 3
   },
   "file_extension": ".py",
   "mimetype": "text/x-python",
   "name": "python",
   "nbconvert_exporter": "python",
   "pygments_lexer": "ipython3",
   "version": "3.13.3"
  }
 },
 "nbformat": 4,
 "nbformat_minor": 5
}
