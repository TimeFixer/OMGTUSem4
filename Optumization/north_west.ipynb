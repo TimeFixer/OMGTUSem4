{
 "cells": [
  {
   "cell_type": "code",
   "execution_count": 70,
   "metadata": {},
   "outputs": [],
   "source": [
    "def cheker (supply, demand):\n",
    "    return sum(supply) == sum(demand)\n",
    "\n",
    "def fict (supply, demand):\n",
    "    diff = abs(sum(supply) - sum(demand))\n",
    "    if sum(supply) < sum(demand):\n",
    "        supply.append(diff)\n",
    "    else:\n",
    "        demand.append(diff)"
   ]
  },
  {
   "cell_type": "code",
   "execution_count": null,
   "metadata": {},
   "outputs": [],
   "source": [
    "def north_west_corner (supply, demand):\n",
    "    supply_copy = supply.copy()\n",
    "    demand_copy = demand.copy()\n",
    "    if (cheker (supply, demand) == False):\n",
    "        fict (supply, demand)\n",
    "    \n",
    "    num_suppliers = len(supply_copy)\n",
    "    num_consumers = len(demand_copy)\n",
    "    \n",
    "    result = [[0] * num_consumers for _ in range(num_suppliers)]\n",
    "    \n",
    "    i, j = 0, 0\n",
    "    \n",
    "    while i < num_suppliers and j < num_consumers:\n",
    "        \n",
    "        min_val = min(supply_copy[i], demand_copy[j])\n",
    "            \n",
    "        result[i][j] = min_val\n",
    "        \n",
    "        supply_copy[i] -= min_val\n",
    "        demand_copy[j] -= min_val\n",
    "        \n",
    "        if supply_copy[i] == 0:\n",
    "            i += 1\n",
    "        else:\n",
    "            j += 1\n",
    "    \n",
    "    return result\n",
    "    \n",
    "    "
   ]
  },
  {
   "cell_type": "code",
   "execution_count": 84,
   "metadata": {},
   "outputs": [
    {
     "name": "stdout",
     "output_type": "stream",
     "text": [
      "650\n",
      "[[ 30   0   0]\n",
      " [ 40 150   0]\n",
      " [  0 160 270]\n",
      " [  0   0   0]]\n"
     ]
    }
   ],
   "source": [
    "import numpy as np\n",
    "matrix = np.array([[1, 2, 3], [4, 5, 6], [7, 8, 9], [10, 11, 12]])\n",
    "supply = [30, 40, 50, 20]\n",
    "demand = [40, 50, 30]\n",
    "result = north_west_corner(supply, demand)\n",
    "ans = matrix * result\n",
    "print(sum(sum(ans)))\n",
    "print(ans)"
   ]
  }
 ],
 "metadata": {
  "kernelspec": {
   "display_name": "Python 3",
   "language": "python",
   "name": "python3"
  },
  "language_info": {
   "codemirror_mode": {
    "name": "ipython",
    "version": 3
   },
   "file_extension": ".py",
   "mimetype": "text/x-python",
   "name": "python",
   "nbconvert_exporter": "python",
   "pygments_lexer": "ipython3",
   "version": "3.13.2"
  }
 },
 "nbformat": 4,
 "nbformat_minor": 2
}
