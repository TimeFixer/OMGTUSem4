{
 "cells": [
  {
   "cell_type": "code",
   "execution_count": 31,
   "metadata": {},
   "outputs": [],
   "source": [
    "def bring_task_to_close_type(matrix_cost, ai_vector_storage, bj_vector_shop):\n",
    "    sum_ai = sum(ai_vector_storage)\n",
    "    sum_bj = sum(bj_vector_shop)\n",
    "\n",
    "    if sum_ai < sum_bj:\n",
    "        ai_vector_storage.append(sum_bj - sum_ai)\n",
    "        matrix_cost.append([0] * len(bj_vector_shop))\n",
    "    elif sum_ai > sum_bj:\n",
    "        bj_vector_shop.append(sum_ai - sum_bj)\n",
    "        matrix_cost = [row + [0] for row in matrix_cost]\n",
    "\n",
    "    return matrix_cost, ai_vector_storage, bj_vector_shop"
   ]
  },
  {
   "cell_type": "code",
   "execution_count": 32,
   "metadata": {},
   "outputs": [],
   "source": [
    "def find_base_solution_min_cost(matrix_cost, ai_vector_storage, bj_vector_shop):\n",
    "    supply = ai_vector_storage.copy()\n",
    "    demand = bj_vector_shop.copy()\n",
    "    \n",
    "    num_suppliers = len(supply)\n",
    "    num_consumers = len(demand)\n",
    "    \n",
    "    result = [[None] * num_consumers for _ in range(num_suppliers)]\n",
    "    \n",
    "    i, j = 0, 0\n",
    "    \n",
    "    while i < num_suppliers and j < num_consumers:\n",
    "        min_val = min(supply[i], demand[j])\n",
    "            \n",
    "        if min_val > 0: \n",
    "            result[i][j] = min_val\n",
    "        \n",
    "        supply[i] -= min_val\n",
    "        demand[j] -= min_val\n",
    "        \n",
    "        if supply[i] == 0 and i < num_suppliers:\n",
    "            i += 1\n",
    "        if demand[j] == 0 and j < num_consumers:\n",
    "            j += 1\n",
    "    \n",
    "    return result"
   ]
  },
  {
   "cell_type": "code",
   "execution_count": 33,
   "metadata": {},
   "outputs": [],
   "source": [
    "def print_matrix_x_ij(matrix_x_ij):\n",
    "    print(\"Матрица перевозок (x_ij):\")\n",
    "    for row in matrix_x_ij:\n",
    "        print(\"\\t \".join(str(x) if x is not None else \"0\" for x in row))"
   ]
  },
  {
   "cell_type": "code",
   "execution_count": 34,
   "metadata": {},
   "outputs": [],
   "source": [
    "def method_potentials(matrix_cost, matrix_x_ij):\n",
    "    rows = len(matrix_cost)\n",
    "    cols = len(matrix_cost[0])\n",
    "\n",
    "    ai_potential = [None] * rows\n",
    "    bj_potential = [None] * cols\n",
    "\n",
    "    ai_potential[0] = 0\n",
    "    record_ai_potentials, record_bj_potentials = 1, 0\n",
    "\n",
    "    while record_ai_potentials != len(ai_potential) or record_bj_potentials != len(bj_potential):\n",
    "        for i in range(rows):\n",
    "            for j in range(cols):\n",
    "                if matrix_x_ij[i][j] is not None:\n",
    "                    if ai_potential[i] is None and bj_potential[j] is not None:\n",
    "                        ai_potential[i] = matrix_cost[i][j] - bj_potential[j]\n",
    "                        record_ai_potentials += 1\n",
    "                    if ai_potential[i] is not None and bj_potential[j] is None:\n",
    "                        bj_potential[j] = matrix_cost[i][j] - ai_potential[i]\n",
    "                        record_bj_potentials += 1\n",
    "\n",
    "    return ai_potential, bj_potential"
   ]
  },
  {
   "cell_type": "code",
   "execution_count": 35,
   "metadata": {},
   "outputs": [],
   "source": [
    "def get_first_non_basic_or_optimal(matrix_x_ij, ai_potential, bj_potential, matrix_cost):\n",
    "    for i in range(len(matrix_x_ij)):\n",
    "        for j in range(len(matrix_x_ij[i])):\n",
    "            if matrix_x_ij[i][j] is None and ai_potential[i] + bj_potential[j] > matrix_cost[i][j]:\n",
    "                return i, j\n",
    "    return True"
   ]
  },
  {
   "cell_type": "code",
   "execution_count": 36,
   "metadata": {},
   "outputs": [],
   "source": [
    "def find_closed_loop(matrix_x_ij, i_start, j_start):\n",
    "    stack = [((i_start, j_start), None, [])]\n",
    "    visited = set()\n",
    "\n",
    "    while stack:\n",
    "        current, direction, path = stack.pop()\n",
    "        if current == (i_start, j_start) and len(path) >= 4:\n",
    "            return path\n",
    "\n",
    "        if current in visited and current != (i_start, j_start):\n",
    "            continue\n",
    "\n",
    "        path.append(current)\n",
    "        visited.add(current)\n",
    "\n",
    "        neighbors = []\n",
    "        if direction is None:\n",
    "            for col in range(len(matrix_x_ij[0])):\n",
    "                if matrix_x_ij[current[0]][col] is not None:\n",
    "                    neighbors.append(((current[0], col), \"col\"))\n",
    "            for row in range(len(matrix_x_ij)):\n",
    "                if matrix_x_ij[row][current[1]] is not None:\n",
    "                    neighbors.append(((row, current[1]), \"row\"))\n",
    "        if direction == \"row\":\n",
    "            for col in range(len(matrix_x_ij[0])):\n",
    "                if (matrix_x_ij[current[0]][col] is not None or\n",
    "                        (current[0] == i_start and col == j_start and len(path) > 3)):\n",
    "                    neighbors.append(((current[0], col), \"col\"))\n",
    "        if direction == \"col\":\n",
    "            for row in range(len(matrix_x_ij)):\n",
    "                if (matrix_x_ij[row][current[1]] is not None or\n",
    "                        (row == i_start and current[1] == j_start and len(path) > 3)):\n",
    "                    neighbors.append(((row, current[1]), \"row\"))\n",
    "\n",
    "        for neighbor, next_direction in neighbors:\n",
    "            if neighbor not in visited or neighbor == (i_start, j_start):\n",
    "                stack.append((neighbor, next_direction, path.copy()))\n",
    "\n",
    "    return None"
   ]
  },
  {
   "cell_type": "code",
   "execution_count": 37,
   "metadata": {},
   "outputs": [],
   "source": [
    "def recalculate_cycle(matrix_x_ij, path):\n",
    "    minimal = float('inf')\n",
    "    for row, col in path[1::2]:\n",
    "        current_value = matrix_x_ij[row][col]\n",
    "        if current_value is not None and current_value > 0:\n",
    "            minimal = min(minimal, current_value)\n",
    "\n",
    "    for row, col in path[0::2]:\n",
    "        if matrix_x_ij[row][col] is None:\n",
    "            matrix_x_ij[row][col] = 0\n",
    "        matrix_x_ij[row][col] += minimal\n",
    "\n",
    "    for row, col in path[1::2]:\n",
    "        matrix_x_ij[row][col] -= minimal\n",
    "        if matrix_x_ij[row][col] == 0:\n",
    "            matrix_x_ij[row][col] = None"
   ]
  },
  {
   "cell_type": "code",
   "execution_count": 38,
   "metadata": {},
   "outputs": [],
   "source": [
    "def calculate_optimal_value_and_print_matrixs(matrix_cost, matrix_x_ij):\n",
    "    L_star = 0\n",
    "    for i in range(len(matrix_cost)):\n",
    "        for j in range(len(matrix_cost[i])):\n",
    "            if matrix_x_ij[i][j] is not None:\n",
    "                L_star += matrix_cost[i][j] * matrix_x_ij[i][j]\n",
    "    print_matrix_x_ij(matrix_x_ij)\n",
    "    print(f'\\nЗначение функции L = {L_star}')"
   ]
  },
  {
   "cell_type": "code",
   "execution_count": 39,
   "metadata": {},
   "outputs": [],
   "source": [
    "def solve_transport_task(matrix_cost, ai_vector_storage, bj_vector_shop):\n",
    "    matrix_cost, ai_vector_storage, bj_vector_shop = bring_task_to_close_type(matrix_cost, ai_vector_storage, bj_vector_shop)\n",
    "    matrix_x_ij = find_base_solution_min_cost(matrix_cost, ai_vector_storage, bj_vector_shop)\n",
    "    \n",
    "    while True:\n",
    "        ai_potential, bj_potential = method_potentials(matrix_cost, matrix_x_ij)\n",
    "        result = get_first_non_basic_or_optimal(matrix_x_ij, ai_potential, bj_potential, matrix_cost)\n",
    "\n",
    "        if result is True:\n",
    "            calculate_optimal_value_and_print_matrixs(matrix_cost, matrix_x_ij)\n",
    "            break\n",
    "        else:\n",
    "            i_start, j_start = result\n",
    "            path = find_closed_loop(matrix_x_ij, i_start, j_start)\n",
    "            if path is None:\n",
    "                raise KeyError(\"Не удалось найти замкнутый цикл\")\n",
    "            recalculate_cycle(matrix_x_ij, path)"
   ]
  },
  {
   "cell_type": "code",
   "execution_count": 40,
   "metadata": {},
   "outputs": [
    {
     "name": "stdout",
     "output_type": "stream",
     "text": [
      "Матрица перевозок (x_ij):\n",
      "0\t 0\t 21\t 3\t 0\n",
      "0\t 29\t 0\t 9\t 4\n",
      "0\t 0\t 0\t 23\t 0\n",
      "35\t 0\t 0\t 0\t 1\n",
      "\n",
      "Значение функции L = 1046\n"
     ]
    }
   ],
   "source": [
    "matrix_cost = [[40, 36, 9, 20], [26, 11, 22, 26], [6, 3, 12, 3], [5, 37, 33, 26]]\n",
    "a_i = [24, 42, 23, 36]\n",
    "b_j = [35, 29, 21, 35]\n",
    "\n",
    "solve_transport_task(matrix_cost, a_i, b_j)"
   ]
  }
 ],
 "metadata": {
  "kernelspec": {
   "display_name": "Python 3",
   "language": "python",
   "name": "python3"
  },
  "language_info": {
   "codemirror_mode": {
    "name": "ipython",
    "version": 3
   },
   "file_extension": ".py",
   "mimetype": "text/x-python",
   "name": "python",
   "nbconvert_exporter": "python",
   "pygments_lexer": "ipython3",
   "version": "3.13.2"
  }
 },
 "nbformat": 4,
 "nbformat_minor": 2
}
