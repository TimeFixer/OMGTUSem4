{
 "cells": [
  {
   "cell_type": "code",
   "execution_count": 1,
   "metadata": {},
   "outputs": [],
   "source": [
    "import math\n",
    "def f(x):\n",
    "    return math.cos(x)"
   ]
  },
  {
   "cell_type": "code",
   "execution_count": 5,
   "metadata": {},
   "outputs": [
    {
     "name": "stdout",
     "output_type": "stream",
     "text": [
      "Минимум функции достигается в x = 3.138410\n",
      "Значение функции в этой точке: -0.999995\n"
     ]
    }
   ],
   "source": [
    "a = 0\n",
    "b = math.pi\n",
    "epsilon = 0.01\n",
    "# Функция для генерации чисел Фибоначчи\n",
    "def fibonacci(n):\n",
    "    fib = [1, 1]  # F_0 = 1, F_1 = 1\n",
    "    for i in range(2, n + 1):\n",
    "        fib.append(fib[i-1] + fib[i-2])\n",
    "    return fib\n",
    "\n",
    "\n",
    "# Функция для метода Фибоначчи\n",
    "def fibonacci_search(a, b, n):\n",
    "    # Шаг 1: Генерируем числа Фибоначчи\n",
    "    fib = fibonacci(n)\n",
    "    \n",
    "    # Инициализация\n",
    "    L = b - a\n",
    "    k = n  # Текущий индекс для чисел Фибоначчи\n",
    "    \n",
    "    # Шаг 2: Вычисляем начальные точки x1 и x2\n",
    "    x1 = a + (fib[k-1] / fib[k]) * L\n",
    "    x2 = b - (fib[k-1] / fib[k]) * L\n",
    "    f1 = f(x1)\n",
    "    f2 = f(x2)\n",
    "    \n",
    "    # Шаг 6: Повторяем, пока n > 2\n",
    "    while k > 2:\n",
    "        # Шаг 4: Сравниваем f1 и f2\n",
    "        if f1 > f2:\n",
    "            # Случай f1 > f2\n",
    "            b = x1\n",
    "            x1 = x2\n",
    "            f1 = f2\n",
    "            L = b - a\n",
    "            x2 = b - (fib[k-2] / fib[k-1]) * L\n",
    "            f2 = f(x2)\n",
    "        else:\n",
    "            # Случай f1 <= f2\n",
    "            a = x2\n",
    "            x2 = x1\n",
    "            f2 = f1\n",
    "            L = b - a\n",
    "            x1 = a + (fib[k-2] / fib[k-1]) * L\n",
    "            f1 = f(x1)\n",
    "        \n",
    "        # Шаг 5: Уменьшаем n\n",
    "        k -= 1\n",
    "    \n",
    "    # Шаг 7: Определяем минимум\n",
    "    if f1 < f2:\n",
    "        return x1, f1\n",
    "    else:\n",
    "        return x2, f2\n",
    "\n",
    "n = 15  # Количество итераций\n",
    "\n",
    "x_min, f_min = fibonacci_search(a, b, n)\n",
    "print(f\"Минимум функции достигается в x = {x_min:.6f}\")\n",
    "print(f\"Значение функции в этой точке: {f_min:.6f}\")"
   ]
  }
 ],
 "metadata": {
  "kernelspec": {
   "display_name": "Python 3",
   "language": "python",
   "name": "python3"
  },
  "language_info": {
   "codemirror_mode": {
    "name": "ipython",
    "version": 3
   },
   "file_extension": ".py",
   "mimetype": "text/x-python",
   "name": "python",
   "nbconvert_exporter": "python",
   "pygments_lexer": "ipython3",
   "version": "3.13.2"
  }
 },
 "nbformat": 4,
 "nbformat_minor": 2
}
