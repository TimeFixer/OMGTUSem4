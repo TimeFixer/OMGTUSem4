{
 "cells": [
  {
   "cell_type": "code",
   "execution_count": 6,
   "metadata": {},
   "outputs": [],
   "source": [
    "import math\n",
    "def f(x):\n",
    "    return math.cos(x)"
   ]
  },
  {
   "cell_type": "code",
   "execution_count": 8,
   "metadata": {},
   "outputs": [
    {
     "name": "stdout",
     "output_type": "stream",
     "text": [
      "Минимум функции достигается в x = 3.137864\n",
      "Значение функции в этой точке: -0.999993\n"
     ]
    }
   ],
   "source": [
    "a = 0\n",
    "b = math.pi\n",
    "epsilon = 0.01\n",
    "\n",
    "# Определяем функцию f(x), например, f(x) = x^2\n",
    "\n",
    "# Функция для метода золотого сечения\n",
    "def golden_section_search(a, b, epsilon):\n",
    "    # Золотое сечение\n",
    "    tau = 0.618\n",
    "    \n",
    "    # Инициализация\n",
    "    L = b - a\n",
    "    \n",
    "    # Шаг 1: Вычисляем начальные точки x1 и x2\n",
    "    x1 = a + L * tau\n",
    "    x2 = b - L * tau\n",
    "    f1 = f(x1)\n",
    "    f2 = f(x2)\n",
    "    \n",
    "    # Повторяем, пока длина интервала больше epsilon\n",
    "    while L > epsilon:\n",
    "        # Шаг 3: Сравниваем f1 и f2\n",
    "        if f1 > f2:\n",
    "            # Случай f1 > f2\n",
    "            b = x1\n",
    "            x1 = x2\n",
    "            f1 = f2\n",
    "            L = b - a\n",
    "            x2 = b - L * tau\n",
    "            f2 = f(x2)\n",
    "        else:\n",
    "            # Случай f1 <= f2\n",
    "            a = x2\n",
    "            x2 = x1\n",
    "            f2 = f1\n",
    "            L = b - a\n",
    "            x1 = a + L * tau\n",
    "            f1 = f(x1)\n",
    "    \n",
    "    # Финальный шаг: Определяем минимум\n",
    "    if f1 < f2:\n",
    "        return x1, f1\n",
    "    else:\n",
    "        return x2, f2\n",
    "\n",
    "x_min, f_min = golden_section_search(a, b, epsilon)\n",
    "print(f\"Минимум функции достигается в x = {x_min:.6f}\")\n",
    "print(f\"Значение функции в этой точке: {f_min:.6f}\")"
   ]
  }
 ],
 "metadata": {
  "kernelspec": {
   "display_name": "Python 3",
   "language": "python",
   "name": "python3"
  },
  "language_info": {
   "codemirror_mode": {
    "name": "ipython",
    "version": 3
   },
   "file_extension": ".py",
   "mimetype": "text/x-python",
   "name": "python",
   "nbconvert_exporter": "python",
   "pygments_lexer": "ipython3",
   "version": "3.13.2"
  }
 },
 "nbformat": 4,
 "nbformat_minor": 2
}
