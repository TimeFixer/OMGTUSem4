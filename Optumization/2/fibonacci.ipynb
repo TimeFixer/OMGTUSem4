{
 "cells": [
  {
   "cell_type": "code",
   "execution_count": null,
   "id": "5b619c1c",
   "metadata": {},
   "outputs": [],
   "source": [
    "def fibonacci(f, a, b, epsilon):\n",
    "    # Шаг 1\n",
    "    L = b - a\n",
    "    n = 0\n",
    "    F = [1, 1]\n",
    "    \n",
    "    while F[-1] < (b - a) / epsilon:\n",
    "        F.append(F[-1] + F[-2])\n",
    "        n += 1\n",
    "    \n",
    "    if n < 2:\n",
    "        n = 2\n",
    "        F = [1, 1, 2, 3]\n",
    "    \n",
    "    # Шаг 2\n",
    "    x1 = a + (F[n-1] / F[n]) * L\n",
    "    x2 = b - (F[n-1] / F[n]) * L\n",
    "    \n",
    "    # Шаг 3\n",
    "    f1 = f(x1)\n",
    "    f2 = f(x2)\n",
    "    \n",
    "    while n > 2:\n",
    "        # Шаг 4\n",
    "        if f1 > f2:\n",
    "            b = x1\n",
    "            x1 = x2\n",
    "            f1 = f2\n",
    "            L = b - a\n",
    "            x2 = b - (F[n-2] / F[n-1]) * L\n",
    "            f2 = f(x2)\n",
    "        else:\n",
    "            a = x2\n",
    "            x2 = x1\n",
    "            f2 = f1\n",
    "            L = b - a\n",
    "            x1 = a + (F[n-2] / F[n-1]) * L\n",
    "            f1 = f(x1)\n",
    "        \n",
    "        # Шаг 5\n",
    "        n -= 1\n",
    "    \n",
    "    # Шаг 7\n",
    "    return (a + b) / 2"
   ]
  },
  {
   "cell_type": "code",
   "execution_count": 2,
   "id": "1548a00c",
   "metadata": {},
   "outputs": [
    {
     "name": "stdout",
     "output_type": "stream",
     "text": [
      "Найденный минимум: 3.140376866959147\n",
      "Значение функции в минимуме: -1.0\n"
     ]
    }
   ],
   "source": [
    "import math\n",
    "def function(x):\n",
    "    return math.cos(x)\n",
    "\n",
    "a = 0\n",
    "b = math.pi\n",
    "epsilon = 0.001\n",
    "\n",
    "result = fibonacci(function, a, b, epsilon)\n",
    "print(f\"Найденный минимум: {result}\")\n",
    "print(f\"Значение функции в минимуме: {round(function(result),4)}\")"
   ]
  }
 ],
 "metadata": {
  "kernelspec": {
   "display_name": "Python 3",
   "language": "python",
   "name": "python3"
  },
  "language_info": {
   "codemirror_mode": {
    "name": "ipython",
    "version": 3
   },
   "file_extension": ".py",
   "mimetype": "text/x-python",
   "name": "python",
   "nbconvert_exporter": "python",
   "pygments_lexer": "ipython3",
   "version": "3.11.9"
  }
 },
 "nbformat": 4,
 "nbformat_minor": 5
}
