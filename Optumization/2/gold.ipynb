{
 "cells": [
  {
   "cell_type": "code",
   "execution_count": 3,
   "metadata": {},
   "outputs": [],
   "source": [
    "def goldenratio(f, a, b, epsilon):\n",
    "    # Шаг 1\n",
    "    t = 0.618\n",
    "    \n",
    "    L = b - a\n",
    "    x1 = a + L * t\n",
    "    x2 = b - L * t\n",
    "    \n",
    "    # Шаг 2\n",
    "    f1 = f(x1)\n",
    "    f2 = f(x2)\n",
    "    \n",
    "    while L > epsilon:\n",
    "        if f1 > f2:\n",
    "            a, b = a, x1\n",
    "            x1, f1 = x2, f2\n",
    "            L = b - a\n",
    "            x2 = b - L * t\n",
    "            f2 = f(x2)\n",
    "        else:\n",
    "            a, b = x2, b\n",
    "            x2, f2 = x1, f1\n",
    "            L = b - a\n",
    "            x1 = a + L * t\n",
    "            f1 = f(x1)\n",
    "    \n",
    "    # Шаг 4\n",
    "    if f1 < f2:\n",
    "        return x1\n",
    "    else:\n",
    "        return x2"
   ]
  },
  {
   "cell_type": "code",
   "execution_count": 4,
   "metadata": {},
   "outputs": [
    {
     "name": "stdout",
     "output_type": "stream",
     "text": [
      "Найденный минимум: 3.14125636772413\n",
      "Значение функции в минимуме: -1.0\n"
     ]
    }
   ],
   "source": [
    "import math\n",
    "def function(x):\n",
    "    return math.cos(x)\n",
    "\n",
    "a = 0\n",
    "b = math.pi\n",
    "epsilon = 0.001\n",
    "\n",
    "result = goldenratio(function, a, b, epsilon)\n",
    "print(f\"Найденный минимум: {result}\")\n",
    "print(f\"Значение функции в минимуме: {round(function(result),4)}\")"
   ]
  }
 ],
 "metadata": {
  "kernelspec": {
   "display_name": "Python 3",
   "language": "python",
   "name": "python3"
  },
  "language_info": {
   "codemirror_mode": {
    "name": "ipython",
    "version": 3
   },
   "file_extension": ".py",
   "mimetype": "text/x-python",
   "name": "python",
   "nbconvert_exporter": "python",
   "pygments_lexer": "ipython3",
   "version": "3.11.9"
  }
 },
 "nbformat": 4,
 "nbformat_minor": 2
}
