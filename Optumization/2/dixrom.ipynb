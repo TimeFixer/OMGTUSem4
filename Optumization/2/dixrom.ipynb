{
 "cells": [
  {
   "cell_type": "code",
   "execution_count": 5,
   "metadata": {},
   "outputs": [],
   "source": [
    "import math\n",
    "def f(x):\n",
    "    return math.cos(x)"
   ]
  },
  {
   "cell_type": "code",
   "execution_count": null,
   "metadata": {},
   "outputs": [
    {
     "name": "stdout",
     "output_type": "stream",
     "text": [
      "Значение функции в точке 1.5707963267948966: -0.9999675329146963\n",
      "Середина финального интервала: 3.133534457639022\n"
     ]
    }
   ],
   "source": [
    "a = 0\n",
    "b = math.pi\n",
    "epsilon = 0.01\n",
    "# Функция для реализации алгоритма\n",
    "def average_integral(a, b, epsilon, max_iterations=1000):\n",
    "    iteration = 0\n",
    "    \n",
    "    # Шаг 4: Повторяем, пока длина интервала больше 2*epsilon\n",
    "    while (b - a) > 2 * epsilon:\n",
    "        # Шаг 1: Находим середину интервала\n",
    "        x = (a + b) / 2\n",
    "        \n",
    "        # Шаг 2: Вычисляем x1, x2 и значения функции в этих точках\n",
    "        x1 = x - epsilon / 2\n",
    "        x2 = x + epsilon / 2\n",
    "        f1 = f(x1)\n",
    "        f2 = f(x2)\n",
    "        \n",
    "        # Шаг 3: Сравниваем f1 и f2, сужаем интервал\n",
    "        if f1 > f2:\n",
    "            a = x1\n",
    "        else:\n",
    "            b = x2\n",
    "        \n",
    "        iteration += 1\n",
    "        # Защита от бесконечного цикла\n",
    "        if iteration >= max_iterations:\n",
    "            print(\"Достигнуто максимальное количество итераций.\")\n",
    "            break\n",
    "    \n",
    "    # Шаг 5: Вычисляем результат\n",
    "    result = f((a + b) / 2)\n",
    "    return result, (a + b) / 2  # Возвращаем значение функции и середину финального интервала\n",
    "\n",
    "result, midpoint = average_integral(a, b, epsilon)\n",
    "print(f\"Значение функции в точке {(a + b) / 2}: {result}\")\n",
    "print(f\"Середина финального интервала: {midpoint}\")"
   ]
  }
 ],
 "metadata": {
  "kernelspec": {
   "display_name": "Python 3",
   "language": "python",
   "name": "python3"
  },
  "language_info": {
   "codemirror_mode": {
    "name": "ipython",
    "version": 3
   },
   "file_extension": ".py",
   "mimetype": "text/x-python",
   "name": "python",
   "nbconvert_exporter": "python",
   "pygments_lexer": "ipython3",
   "version": "3.13.2"
  }
 },
 "nbformat": 4,
 "nbformat_minor": 2
}
