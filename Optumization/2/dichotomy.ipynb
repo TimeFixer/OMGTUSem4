{
 "cells": [
  {
   "cell_type": "code",
   "execution_count": 1,
   "id": "b619b628",
   "metadata": {},
   "outputs": [],
   "source": [
    "def dichotomy(f, a, b, epsilon):\n",
    "    while (b - a) > 2 * epsilon:\n",
    "        # Шаг 1\n",
    "        x = (a + b) / 2\n",
    "        \n",
    "        # Шаг 2\n",
    "        x1 = x - epsilon / 2\n",
    "        x2 = x + epsilon / 2\n",
    "        \n",
    "        f1 = f(x1)\n",
    "        f2 = f(x2)\n",
    "        \n",
    "        # Шаг 3\n",
    "        if f1 > f2:\n",
    "            a = x1\n",
    "        else:\n",
    "            b = x2\n",
    "    \n",
    "    # Шаг 5\n",
    "    return (a + b) / 2"
   ]
  },
  {
   "cell_type": "code",
   "execution_count": 4,
   "id": "faaccb45",
   "metadata": {},
   "outputs": [
    {
     "name": "stdout",
     "output_type": "stream",
     "text": [
      "Найденный минимум: 3.140709280463134\n",
      "Значение функции в минимуме: -1.0\n"
     ]
    }
   ],
   "source": [
    "import math\n",
    "def function(x):\n",
    "    return math.cos(x)\n",
    "\n",
    "a = 0\n",
    "b = math.pi\n",
    "epsilon = 0.001\n",
    "\n",
    "result = dichotomy(function, a, b, epsilon)\n",
    "print(f\"Найденный минимум: {result}\")\n",
    "print(f\"Значение функции в минимуме: {round(function(result),4)}\")"
   ]
  }
 ],
 "metadata": {
  "kernelspec": {
   "display_name": "Python 3",
   "language": "python",
   "name": "python3"
  },
  "language_info": {
   "codemirror_mode": {
    "name": "ipython",
    "version": 3
   },
   "file_extension": ".py",
   "mimetype": "text/x-python",
   "name": "python",
   "nbconvert_exporter": "python",
   "pygments_lexer": "ipython3",
   "version": "3.11.9"
  }
 },
 "nbformat": 4,
 "nbformat_minor": 5
}
