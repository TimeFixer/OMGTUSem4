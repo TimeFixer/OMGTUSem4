{
 "cells": [
  {
   "cell_type": "code",
   "execution_count": 1,
   "id": "a7d4feec",
   "metadata": {},
   "outputs": [],
   "source": [
    "\n",
    "from sklearn.tree import DecisionTreeClassifier\n",
    "from sklearn.model_selection import train_test_split\n",
    "from sklearn.metrics import accuracy_score\n",
    "import pandas as pd\n",
    "from pyswarms.single.global_best import GlobalBestPSO\n",
    "from sklearn.naive_bayes import GaussianNB\n",
    "import joblib"
   ]
  },
  {
   "cell_type": "code",
   "execution_count": 2,
   "id": "83d3e681",
   "metadata": {},
   "outputs": [],
   "source": [
    "data = pd.read_csv('dataset_1.csv')\n",
    "\n",
    "figure_dict = {\n",
    "    'circle': 0,\n",
    "    'rectangle': 1\n",
    "}\n",
    "data['figure1'] = data['figure1'].map(figure_dict)\n",
    "data['figure2'] = data['figure2'].map(figure_dict)\n",
    "\n",
    "\n",
    "X = data.drop('collision', axis=1)\n",
    "y = data['collision']\n",
    "# Предобработка\n",
    "X_train, X_test, y_train, y_test = train_test_split(X, y, test_size=0.2, random_state=42)"
   ]
  },
  {
   "cell_type": "code",
   "execution_count": 3,
   "id": "c736d2fa",
   "metadata": {},
   "outputs": [],
   "source": [
    "# Определение диапазонов гиперпараметров\n",
    "decision_tree_param_ranges = {\n",
    "    'max_depth': (1, 20),  # Глубина дерева\n",
    "    'min_samples_split': (2, 20),  # Минимальное количество выборок для разделения\n",
    "    'min_samples_leaf': (1, 20)  # Минимальное количество выборок в листе\n",
    "}\n",
    "\n",
    "naive_bayes_param_ranges = {\n",
    "    'var_smoothing': (1e-11, 1e-7)\n",
    "}"
   ]
  },
  {
   "cell_type": "code",
   "execution_count": 4,
   "id": "ff8fb27f",
   "metadata": {},
   "outputs": [],
   "source": [
    "# Целевая функция для Decision Tree\n",
    "def decision_tree_fitness_function(params):\n",
    "    # Преобразуем 2D-массив в 1D (если передаётся несколько частиц)\n",
    "    if params.ndim == 2:\n",
    "        params = params[0]  # Берём первую частицу (можно цикл, если нужно для всех)\n",
    "    \n",
    "    max_depth = int(params[0])\n",
    "    min_samples_split = int(params[1])\n",
    "    min_samples_leaf = int(params[2])\n",
    "    \n",
    "    model = DecisionTreeClassifier(\n",
    "        max_depth=max_depth,\n",
    "        min_samples_split=min_samples_split,\n",
    "        min_samples_leaf=min_samples_leaf,\n",
    "        random_state=42\n",
    "    )\n",
    "    \n",
    "    model.fit(X_train, y_train)\n",
    "    y_pred = model.predict(X_test)\n",
    "    accuracy = accuracy_score(y_test, y_pred)\n",
    "    return -accuracy  # PSO минимизирует функцию, поэтому возвращаем -accuracy"
   ]
  },
  {
   "cell_type": "code",
   "execution_count": 5,
   "id": "626c9c4b",
   "metadata": {},
   "outputs": [],
   "source": [
    "# Целевая функция для Logistic Regression\n",
    "def naive_bayes_fitness_function(params):\n",
    "    if params.ndim == 2:\n",
    "        params = params[0]\n",
    "    \n",
    "    var_smoothing = float(params[0])\n",
    "    \n",
    "    model = GaussianNB(\n",
    "        var_smoothing=var_smoothing\n",
    "    )\n",
    "    \n",
    "    model.fit(X_train, y_train)\n",
    "    y_pred = model.predict(X_test)\n",
    "    accuracy = accuracy_score(y_test, y_pred)\n",
    "    return -accuracy\n"
   ]
  },
  {
   "cell_type": "code",
   "execution_count": 6,
   "id": "c890d95b",
   "metadata": {},
   "outputs": [],
   "source": [
    "# Настройка PSO для Decision Tree\n",
    "bounds_dt = (\n",
    "    [\n",
    "        decision_tree_param_ranges['max_depth'][0],           # Нижняя граница max_depth\n",
    "        decision_tree_param_ranges['min_samples_split'][0],   # Нижняя граница min_samples_split\n",
    "        decision_tree_param_ranges['min_samples_leaf'][0]     # Нижняя граница min_samples_leaf\n",
    "    ],\n",
    "    [\n",
    "        decision_tree_param_ranges['max_depth'][1],           # Верхняя граница max_depth\n",
    "        decision_tree_param_ranges['min_samples_split'][1],   # Верхняя граница min_samples_split\n",
    "        decision_tree_param_ranges['min_samples_leaf'][1]     # Верхняя граница min_samples_leaf\n",
    "    ]\n",
    ")\n",
    "\n",
    "optimizer_dt = GlobalBestPSO(\n",
    "    n_particles=10,  # Количество частиц\n",
    "    dimensions=3,  # Количество гиперпараметров\n",
    "    options={'c1': 0.5, 'c2': 0.3, 'w': 0.9},  # Параметры PSO\n",
    "    bounds=bounds_dt\n",
    ")"
   ]
  },
  {
   "cell_type": "code",
   "execution_count": 7,
   "id": "f202b68c",
   "metadata": {},
   "outputs": [
    {
     "name": "stderr",
     "output_type": "stream",
     "text": [
      "2025-04-19 00:25:19,690 - pyswarms.single.global_best - INFO - Optimize for 20 iters with {'c1': 0.5, 'c2': 0.3, 'w': 0.9}\n"
     ]
    },
    {
     "name": "stdout",
     "output_type": "stream",
     "text": [
      "Дерево решений\n"
     ]
    },
    {
     "name": "stderr",
     "output_type": "stream",
     "text": [
      "pyswarms.single.global_best: 100%|██████████|20/20, best_cost=-0.5\n",
      "2025-04-19 00:25:19,767 - pyswarms.single.global_best - INFO - Optimization finished | best cost: -0.5, best pos: [13.33134552 16.50984883 13.40098912]\n"
     ]
    },
    {
     "name": "stdout",
     "output_type": "stream",
     "text": [
      "Лучшие параметры: max_depth=13, min_samples_split=16, min_samples_leaf=13\n",
      "Лучший Accuracy: 0.5\n"
     ]
    },
    {
     "data": {
      "text/plain": [
       "['2_best_decision_tree_model.pkl']"
      ]
     },
     "execution_count": 7,
     "metadata": {},
     "output_type": "execute_result"
    }
   ],
   "source": [
    "print(\"Дерево решений\")\n",
    "best_cost_dt, best_pos_dt = optimizer_dt.optimize(decision_tree_fitness_function, iters=20)\n",
    "print(f\"Лучшие параметры: max_depth={int(best_pos_dt[0])}, min_samples_split={int(best_pos_dt[1])}, min_samples_leaf={int(best_pos_dt[2])}\")\n",
    "print(f\"Лучший Accuracy: {-best_cost_dt}\")\n",
    "\n",
    "best_dt_model = DecisionTreeClassifier(\n",
    "    max_depth=int(best_pos_dt[0]),\n",
    "    min_samples_split=int(best_pos_dt[1]),\n",
    "    min_samples_leaf=int(best_pos_dt[2]),\n",
    "    random_state=42\n",
    ")\n",
    "joblib.dump(best_dt_model, '2_best_decision_tree_model.pkl')"
   ]
  },
  {
   "cell_type": "code",
   "execution_count": 8,
   "id": "25201386",
   "metadata": {},
   "outputs": [],
   "source": [
    "bounds_nb = (\n",
    "    [naive_bayes_param_ranges['var_smoothing'][0]],  # Нижняя граница var_smoothing\n",
    "    [naive_bayes_param_ranges['var_smoothing'][1]]   # Верхняя граница var_smoothing\n",
    ")\n",
    "\n",
    "optimizer_nb = GlobalBestPSO(\n",
    "    n_particles=10,\n",
    "    dimensions=1,  # Только один параметр для оптимизации\n",
    "    options={'c1': 0.5, 'c2': 0.3, 'w': 0.9},\n",
    "    bounds=bounds_nb\n",
    ")"
   ]
  },
  {
   "cell_type": "code",
   "execution_count": 9,
   "id": "f514a066",
   "metadata": {},
   "outputs": [
    {
     "name": "stderr",
     "output_type": "stream",
     "text": [
      "2025-04-19 00:25:19,783 - pyswarms.single.global_best - INFO - Optimize for 20 iters with {'c1': 0.5, 'c2': 0.3, 'w': 0.9}\n"
     ]
    },
    {
     "name": "stdout",
     "output_type": "stream",
     "text": [
      "\n",
      "Наивный Байес\n"
     ]
    },
    {
     "name": "stderr",
     "output_type": "stream",
     "text": [
      "pyswarms.single.global_best: 100%|██████████|20/20, best_cost=-0.8\n",
      "2025-04-19 00:25:19,835 - pyswarms.single.global_best - INFO - Optimization finished | best cost: -0.8, best pos: [4.43184704e-08]\n"
     ]
    },
    {
     "name": "stdout",
     "output_type": "stream",
     "text": [
      "Лучший параметр: 4.4318470416031076e-08\n",
      "Лучший Accuracy: 0.8\n"
     ]
    },
    {
     "data": {
      "text/plain": [
       "['2_best_naive_bayes_model.pkl']"
      ]
     },
     "execution_count": 9,
     "metadata": {},
     "output_type": "execute_result"
    }
   ],
   "source": [
    "print(\"\\nНаивный Байес\")\n",
    "best_cost_lr, best_pos_lr = optimizer_nb.optimize(naive_bayes_fitness_function, iters=20)\n",
    "print(f\"Лучший параметр: {best_pos_lr[0]}\")\n",
    "print(f\"Лучший Accuracy: {-best_cost_lr}\")\n",
    "\n",
    "best_nb_model = GaussianNB(\n",
    "    var_smoothing=float(best_pos_lr[0])\n",
    ")\n",
    "joblib.dump(best_nb_model, '2_best_naive_bayes_model.pkl')"
   ]
  }
 ],
 "metadata": {
  "kernelspec": {
   "display_name": "Python 3",
   "language": "python",
   "name": "python3"
  },
  "language_info": {
   "codemirror_mode": {
    "name": "ipython",
    "version": 3
   },
   "file_extension": ".py",
   "mimetype": "text/x-python",
   "name": "python",
   "nbconvert_exporter": "python",
   "pygments_lexer": "ipython3",
   "version": "3.13.3"
  }
 },
 "nbformat": 4,
 "nbformat_minor": 5
}
