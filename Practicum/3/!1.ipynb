{
 "cells": [
  {
   "cell_type": "code",
   "execution_count": 180,
   "id": "66445951",
   "metadata": {},
   "outputs": [],
   "source": [
    "\n",
    "import pygad\n",
    "\n",
    "import pandas as pd\n",
    "from sklearn.tree import DecisionTreeClassifier\n",
    "from sklearn.model_selection import train_test_split\n",
    "from sklearn.metrics import accuracy_score\n",
    "from sklearn.naive_bayes import GaussianNB\n",
    "import joblib"
   ]
  },
  {
   "cell_type": "code",
   "execution_count": null,
   "id": "95b2affa",
   "metadata": {},
   "outputs": [],
   "source": [
    "data = pd.read_csv('dataset_1.csv')\n",
    "\n",
    "figure_dict = {\n",
    "    'circle': 0,\n",
    "    'rectangle': 1\n",
    "}\n",
    "data['figure1'] = data['figure1'].map(figure_dict)\n",
    "data['figure2'] = data['figure2'].map(figure_dict)\n",
    "\n",
    "\n",
    "X = data.drop('collision', axis=1)\n",
    "y = data['collision']\n",
    "\n",
    "# Предобработка\n",
    "X_train, X_test, y_train, y_test = train_test_split(X, y, test_size=0.2, random_state=42)\n",
    "\n",
    "# Определение диапазонов гиперпараметров\n",
    "decision_tree_param_ranges = {\n",
    "    'max_depth': (1, 20),\n",
    "    'min_samples_split': (2, 20),\n",
    "    'min_samples_leaf': (1, 20)\n",
    "}\n",
    "\n",
    "naive_bayes_param_ranges = {\n",
    "    'var_smoothing': (1e-11, 1e-7)\n",
    "}"
   ]
  },
  {
   "cell_type": "code",
   "execution_count": 182,
   "id": "4d994cfe",
   "metadata": {},
   "outputs": [],
   "source": [
    "# Целевая функция для Decision Tree\n",
    "def decision_tree_fitness_function(ga_instance, solution, solution_idx):\n",
    "    max_depth = int(solution[0])\n",
    "    min_samples_split = int(solution[1])\n",
    "    min_samples_leaf = int(solution[2])\n",
    "    \n",
    "    model = DecisionTreeClassifier(\n",
    "        max_depth=max_depth,\n",
    "        min_samples_split=min_samples_split,\n",
    "        min_samples_leaf=min_samples_leaf,\n",
    "        random_state=42\n",
    "    )\n",
    "    \n",
    "    model.fit(X_train, y_train)\n",
    "    y_pred = model.predict(X_test)\n",
    "    accuracy = accuracy_score(y_test, y_pred)\n",
    "    \n",
    "    return accuracy\n",
    "\n",
    "# Целевая функция для Naive Bayes\n",
    "def naive_bayes_fitness_function(ga_instance, solution, solution_idx):\n",
    "    var_smoothing = solution[0]\n",
    "    \n",
    "    model = GaussianNB(var_smoothing=var_smoothing)\n",
    "    \n",
    "    model.fit(X_train, y_train)\n",
    "    y_pred = model.predict(X_test)\n",
    "    accuracy = accuracy_score(y_test, y_pred)\n",
    "    \n",
    "    return accuracy"
   ]
  },
  {
   "cell_type": "code",
   "execution_count": 183,
   "id": "620f7692",
   "metadata": {},
   "outputs": [
    {
     "name": "stderr",
     "output_type": "stream",
     "text": [
      "c:\\Users\\user\\AppData\\Local\\Programs\\Python\\Python313\\Lib\\site-packages\\pygad\\pygad.py:744: UserWarning: The percentage of genes to mutate (mutation_percent_genes=10) resulted in selecting (0) genes. The number of genes to mutate is set to 1 (mutation_num_genes=1).\n",
      "If you do not want to mutate any gene, please set mutation_type=None.\n",
      "  warnings.warn(f\"The percentage of genes to mutate (mutation_percent_genes={mutation_percent_genes}) resulted in selecting ({mutation_num_genes}) genes. The number of genes to mutate is set to 1 (mutation_num_genes=1).\\nIf you do not want to mutate any gene, please set mutation_type=None.\")\n"
     ]
    }
   ],
   "source": [
    "# Настройка генетического алгоритма для Decision Tree\n",
    "ga_decision_tree = pygad.GA(\n",
    "    num_generations=20,\n",
    "    num_parents_mating=5,\n",
    "    fitness_func=decision_tree_fitness_function,\n",
    "    sol_per_pop=10,\n",
    "    num_genes=3,\n",
    "    gene_space=[\n",
    "        {'low': decision_tree_param_ranges['max_depth'][0], 'high': decision_tree_param_ranges['max_depth'][1]},\n",
    "        {'low': decision_tree_param_ranges['min_samples_split'][0], 'high': decision_tree_param_ranges['min_samples_split'][1]},\n",
    "        {'low': decision_tree_param_ranges['min_samples_leaf'][0], 'high': decision_tree_param_ranges['min_samples_leaf'][1]}\n",
    "    ],\n",
    "    mutation_percent_genes=10\n",
    ")\n",
    "\n",
    "# Настройка генетического алгоритма для Naive Bayes\n",
    "ga_naive_bayes = pygad.GA(\n",
    "    num_generations=20,\n",
    "    num_parents_mating=5,\n",
    "    fitness_func=naive_bayes_fitness_function,\n",
    "    sol_per_pop=10,\n",
    "    num_genes=1,\n",
    "    gene_space=[\n",
    "        {'low': naive_bayes_param_ranges['var_smoothing'][0], 'high': naive_bayes_param_ranges['var_smoothing'][1]}\n",
    "    ],\n",
    "    mutation_percent_genes=10\n",
    ")"
   ]
  },
  {
   "cell_type": "code",
   "execution_count": 184,
   "id": "c0a9e897",
   "metadata": {},
   "outputs": [
    {
     "name": "stdout",
     "output_type": "stream",
     "text": [
      "Дерево решений\n",
      "Лучшие параметры: max_depth=5, min_samples_split=18, min_samples_leaf=1\n",
      "Лучший Accuracy: 0.8\n",
      "\n",
      "Наивный Байес\n",
      "Лучший параметр: var_smoothing=1e-11\n",
      "Лучший Accuracy: 0.8\n"
     ]
    },
    {
     "data": {
      "text/plain": [
       "['1_best_naive_bayes_model.pkl']"
      ]
     },
     "execution_count": 184,
     "metadata": {},
     "output_type": "execute_result"
    }
   ],
   "source": [
    "\n",
    "# Запуск генетического алгоритма для Decision Tree\n",
    "print(\"Дерево решений\")\n",
    "ga_decision_tree.run()\n",
    "solution_dt, solution_fitness_dt, _ = ga_decision_tree.best_solution()\n",
    "print(f\"Лучшие параметры: max_depth={int(solution_dt[0])}, min_samples_split={int(solution_dt[1])}, min_samples_leaf={int(solution_dt[2])}\")\n",
    "print(f\"Лучший Accuracy: {solution_fitness_dt}\")\n",
    "\n",
    "best_dt_model = DecisionTreeClassifier(\n",
    "    max_depth=int(solution_dt[0]),\n",
    "    min_samples_split=int(solution_dt[1]),\n",
    "    min_samples_leaf=int(solution_dt[2]),\n",
    "    random_state=42\n",
    ")\n",
    "joblib.dump(best_dt_model, '1_best_decision_tree_model.pkl')\n",
    "\n",
    "# Запуск генетического алгоритма для Naive Bayes\n",
    "print(\"\\nНаивный Байес\")\n",
    "ga_naive_bayes.run()\n",
    "solution_nb, solution_fitness_nb, _ = ga_naive_bayes.best_solution()\n",
    "print(f\"Лучший параметр: var_smoothing={solution_nb[0]}\")\n",
    "print(f\"Лучший Accuracy: {solution_fitness_nb}\")\n",
    "\n",
    "best_nb_model = GaussianNB(\n",
    "    var_smoothing=float(solution_nb[0])\n",
    ")\n",
    "joblib.dump(best_nb_model, '1_best_naive_bayes_model.pkl')"
   ]
  }
 ],
 "metadata": {
  "kernelspec": {
   "display_name": "Python 3",
   "language": "python",
   "name": "python3"
  },
  "language_info": {
   "codemirror_mode": {
    "name": "ipython",
    "version": 3
   },
   "file_extension": ".py",
   "mimetype": "text/x-python",
   "name": "python",
   "nbconvert_exporter": "python",
   "pygments_lexer": "ipython3",
   "version": "3.13.2"
  }
 },
 "nbformat": 4,
 "nbformat_minor": 5
}
