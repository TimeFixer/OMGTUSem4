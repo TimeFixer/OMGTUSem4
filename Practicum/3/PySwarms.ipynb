{
  "nbformat": 4,
  "nbformat_minor": 0,
  "metadata": {
    "colab": {
      "provenance": []
    },
    "kernelspec": {
      "name": "python3",
      "display_name": "Python 3"
    },
    "language_info": {
      "name": "python"
    }
  },
  "cells": [
    {
      "cell_type": "code",
      "source": [
        "pip install pyswarms"
      ],
      "metadata": {
        "colab": {
          "base_uri": "https://localhost:8080/"
        },
        "id": "73pE8uUtsH8q",
        "outputId": "a8d50801-ff50-4bd9-88a5-0fe6f64f0a16"
      },
      "execution_count": null,
      "outputs": [
        {
          "output_type": "stream",
          "name": "stdout",
          "text": [
            "Requirement already satisfied: pyswarms in /usr/local/lib/python3.11/dist-packages (1.3.0)\n",
            "Requirement already satisfied: scipy in /usr/local/lib/python3.11/dist-packages (from pyswarms) (1.14.1)\n",
            "Requirement already satisfied: numpy in /usr/local/lib/python3.11/dist-packages (from pyswarms) (2.0.2)\n",
            "Requirement already satisfied: matplotlib>=1.3.1 in /usr/local/lib/python3.11/dist-packages (from pyswarms) (3.10.0)\n",
            "Requirement already satisfied: attrs in /usr/local/lib/python3.11/dist-packages (from pyswarms) (25.3.0)\n",
            "Requirement already satisfied: tqdm in /usr/local/lib/python3.11/dist-packages (from pyswarms) (4.67.1)\n",
            "Requirement already satisfied: future in /usr/local/lib/python3.11/dist-packages (from pyswarms) (1.0.0)\n",
            "Requirement already satisfied: pyyaml in /usr/local/lib/python3.11/dist-packages (from pyswarms) (6.0.2)\n",
            "Requirement already satisfied: contourpy>=1.0.1 in /usr/local/lib/python3.11/dist-packages (from matplotlib>=1.3.1->pyswarms) (1.3.1)\n",
            "Requirement already satisfied: cycler>=0.10 in /usr/local/lib/python3.11/dist-packages (from matplotlib>=1.3.1->pyswarms) (0.12.1)\n",
            "Requirement already satisfied: fonttools>=4.22.0 in /usr/local/lib/python3.11/dist-packages (from matplotlib>=1.3.1->pyswarms) (4.56.0)\n",
            "Requirement already satisfied: kiwisolver>=1.3.1 in /usr/local/lib/python3.11/dist-packages (from matplotlib>=1.3.1->pyswarms) (1.4.8)\n",
            "Requirement already satisfied: packaging>=20.0 in /usr/local/lib/python3.11/dist-packages (from matplotlib>=1.3.1->pyswarms) (24.2)\n",
            "Requirement already satisfied: pillow>=8 in /usr/local/lib/python3.11/dist-packages (from matplotlib>=1.3.1->pyswarms) (11.1.0)\n",
            "Requirement already satisfied: pyparsing>=2.3.1 in /usr/local/lib/python3.11/dist-packages (from matplotlib>=1.3.1->pyswarms) (3.2.1)\n",
            "Requirement already satisfied: python-dateutil>=2.7 in /usr/local/lib/python3.11/dist-packages (from matplotlib>=1.3.1->pyswarms) (2.8.2)\n",
            "Requirement already satisfied: six>=1.5 in /usr/local/lib/python3.11/dist-packages (from python-dateutil>=2.7->matplotlib>=1.3.1->pyswarms) (1.17.0)\n"
          ]
        }
      ]
    },
    {
      "cell_type": "code",
      "execution_count": null,
      "metadata": {
        "colab": {
          "base_uri": "https://localhost:8080/"
        },
        "id": "LWRtIzeVr2ap",
        "outputId": "2b9385cb-cc38-4068-ff7d-8c9645e708b3"
      },
      "outputs": [
        {
          "output_type": "stream",
          "name": "stderr",
          "text": [
            "2025-03-28 17:30:25,033 - numexpr.utils - INFO - NumExpr defaulting to 2 threads.\n"
          ]
        }
      ],
      "source": [
        "import numpy as np\n",
        "import pyswarms as ps\n",
        "from sklearn.tree import DecisionTreeClassifier\n",
        "from sklearn.datasets import load_wine\n",
        "from sklearn.model_selection import train_test_split\n",
        "from sklearn.metrics import accuracy_score"
      ]
    },
    {
      "cell_type": "code",
      "source": [
        "data = load_wine()\n",
        "X = data.data  # Массив признаков\n",
        "y = data.target  # Вектор целевых значений\n",
        "# Разделение данных на обучающую и тестовую выборки (80/20)\n",
        "X_train, X_test, y_train, y_test = train_test_split(X, y, test_size=0.2, random_state=42)"
      ],
      "metadata": {
        "id": "4uYBYsKor4EQ"
      },
      "execution_count": null,
      "outputs": []
    },
    {
      "cell_type": "code",
      "source": [
        "# Определение пространства поиска гиперпараметров\n",
        "hyperparameter_bounds = {\n",
        "    'max_depth': (1, 30),           # Максимальная глубина дерева\n",
        "    'min_samples_split': (2, 30),   # Минимальное число образцов для разделения узла\n",
        "    'min_samples_leaf': (1, 15),    # Минимальное число образцов в листе\n",
        "    'criterion_threshold': (0, 1)   # Порог для выбора критерия (gini/entropy)\n",
        "}"
      ],
      "metadata": {
        "id": "1SrafgYwsHIu"
      },
      "execution_count": null,
      "outputs": []
    },
    {
      "cell_type": "code",
      "source": [
        "# Функция преобразования позиции частицы в гиперпараметры\n",
        "def particle_to_hyperparams(particle):\n",
        "    \"\"\"\n",
        "    Преобразует непрерывные значения частицы в валидные гиперпараметры для CART.\n",
        "\n",
        "    Аргументы:\n",
        "        particle (np.array): Вектор позиции частицы в пространстве параметров\n",
        "\n",
        "    Возвращает:\n",
        "        dict: Словарь с преобразованными гиперпараметрами\n",
        "    \"\"\"\n",
        "    params = {\n",
        "        'max_depth': int(np.round(particle[0])),  # Округление до целого числа\n",
        "        'min_samples_split': int(np.round(particle[1])),\n",
        "        'min_samples_leaf': int(np.round(particle[2])),\n",
        "        'criterion': 'entropy' if particle[3] > 0.5 else 'gini'  # Бинарный выбор\n",
        "    }\n",
        "\n",
        "    # Корректировка минимальных значений параметров\n",
        "    params['max_depth'] = max(1, params['max_depth'])  # Глубина не может быть меньше 1\n",
        "    params['min_samples_split'] = max(2, params['min_samples_split'])  # Минимум 2 образца для разделения\n",
        "    params['min_samples_leaf'] = max(1, params['min_samples_leaf'])  # Минимум 1 образец в листе\n",
        "\n",
        "    return params"
      ],
      "metadata": {
        "id": "PeS3BAsbsVfF"
      },
      "execution_count": null,
      "outputs": []
    },
    {
      "cell_type": "code",
      "source": [
        "# Целевая функция для оптимизации\n",
        "def objective_function(particles):\n",
        "    \"\"\"\n",
        "    Вычисляет значение целевой функции (1 - accuracy) для каждой частицы.\n",
        "\n",
        "    Аргументы:\n",
        "        particles (np.array): Массив частиц (кандидатных решений)\n",
        "\n",
        "    Возвращает:\n",
        "        np.array: Массив значений целевой функции для каждой частицы\n",
        "    \"\"\"\n",
        "    scores = []\n",
        "    for particle in particles:\n",
        "        try:\n",
        "            # Преобразование частицы в гиперпараметры\n",
        "            params = particle_to_hyperparams(particle)\n",
        "\n",
        "            # Создание и обучение модели дерева решений\n",
        "            model = DecisionTreeClassifier(\n",
        "                max_depth=params['max_depth'],\n",
        "                min_samples_split=params['min_samples_split'],\n",
        "                min_samples_leaf=params['min_samples_leaf'],\n",
        "                criterion=params['criterion'],\n",
        "                random_state=42  # Фиксация random_state для воспроизводимости\n",
        "            )\n",
        "\n",
        "            model.fit(X_train, y_train)  # Обучение модели\n",
        "            y_pred = model.predict(X_test)  # Прогнозирование на тестовых данных\n",
        "            accuracy = accuracy_score(y_test, y_pred)  # Вычисление точности\n",
        "\n",
        "            # Преобразование в задачу минимизации (1 - accuracy)\n",
        "            scores.append(1 - accuracy)\n",
        "        except:\n",
        "            # Штраф за невалидные параметры (например, min_samples_split > min_samples_leaf)\n",
        "            scores.append(2)  # Большое штрафное значение\n",
        "\n",
        "    return np.array(scores)"
      ],
      "metadata": {
        "id": "ovwU5y1ksYQk"
      },
      "execution_count": null,
      "outputs": []
    },
    {
      "cell_type": "code",
      "source": [
        "# Конфигурация алгоритма PSO\n",
        "options = {\n",
        "    'c1': 0.5,  # Вес когнитивного компонента (личный лучший опыт)\n",
        "    'c2': 0.3,  # Вес социального компонента (глобальный лучший опыт)\n",
        "    'w': 0.9    # Коэффициент инерции (сохранение предыдущей скорости)\n",
        "}"
      ],
      "metadata": {
        "id": "Lz18t1N6saZK"
      },
      "execution_count": null,
      "outputs": []
    },
    {
      "cell_type": "code",
      "source": [
        "# Создание оптимизатора PSO\n",
        "optimizer = ps.single.GlobalBestPSO(\n",
        "    n_particles=20,     # Количество частиц в рое\n",
        "    dimensions=4,       # Количество оптимизируемых параметров\n",
        "    options=options,    # Параметры алгоритма\n",
        "    bounds= [(1, 2, 1, 0), (30, 30, 15, 1)]  # Границы поиска для каждого параметра\n",
        ")"
      ],
      "metadata": {
        "id": "KkOO13ycscsZ"
      },
      "execution_count": null,
      "outputs": []
    },
    {
      "cell_type": "code",
      "source": [
        "# Запуск процесса оптимизации\n",
        "best_cost, best_pos = optimizer.optimize(\n",
        "    objective_function,  # Целевая функция\n",
        "    iters=50,            # Количество итераций\n",
        "    verbose=True         # Вывод прогресса\n",
        ")"
      ],
      "metadata": {
        "colab": {
          "base_uri": "https://localhost:8080/"
        },
        "id": "cmTT8xsdsfa2",
        "outputId": "421fb037-cef5-4702-b414-3944deb1d4d1"
      },
      "execution_count": null,
      "outputs": [
        {
          "output_type": "stream",
          "name": "stderr",
          "text": [
            "2025-03-28 17:32:25,957 - pyswarms.single.global_best - INFO - Optimize for 50 iters with {'c1': 0.5, 'c2': 0.3, 'w': 0.9}\n",
            "pyswarms.single.global_best: 100%|██████████|50/50, best_cost=0.0556\n",
            "2025-03-28 17:32:29,167 - pyswarms.single.global_best - INFO - Optimization finished | best cost: 0.05555555555555558, best pos: [16.10486895 19.99017946 11.54663909  0.2445999 ]\n"
          ]
        }
      ]
    },
    {
      "cell_type": "code",
      "source": [
        "best_params = particle_to_hyperparams(best_pos)\n",
        "print(\"\\nЛучшие найденные параметры:\")\n",
        "print(f\"max_depth: {best_params['max_depth']}\")\n",
        "print(f\"min_samples_split: {best_params['min_samples_split']}\")\n",
        "print(f\"min_samples_leaf: {best_params['min_samples_leaf']}\")\n",
        "print(f\"criterion: {best_params['criterion']}\")\n",
        "print(f\"Accuracy: {1 - best_cost:.4f}\")"
      ],
      "metadata": {
        "colab": {
          "base_uri": "https://localhost:8080/"
        },
        "id": "Nk3jMuHDshoH",
        "outputId": "a13ed3d7-50e9-4a1a-ca96-48f7a8faca79"
      },
      "execution_count": null,
      "outputs": [
        {
          "output_type": "stream",
          "name": "stdout",
          "text": [
            "\n",
            "Лучшие найденные параметры:\n",
            "max_depth: 16\n",
            "min_samples_split: 20\n",
            "min_samples_leaf: 12\n",
            "criterion: gini\n",
            "Accuracy: 0.9444\n"
          ]
        }
      ]
    },
    {
      "cell_type": "code",
      "source": [
        "from pyswarms.utils.plotters import plot_cost_history"
      ],
      "metadata": {
        "id": "oqZtphdPyfSL"
      },
      "execution_count": null,
      "outputs": []
    },
    {
      "cell_type": "code",
      "source": [
        "plot_cost_history(optimizer.cost_history)"
      ],
      "metadata": {
        "colab": {
          "base_uri": "https://localhost:8080/",
          "height": 736
        },
        "id": "Iz0A6_4nx9yY",
        "outputId": "da51f6f3-ad02-441f-9695-16befbb447f5"
      },
      "execution_count": null,
      "outputs": [
        {
          "output_type": "execute_result",
          "data": {
            "text/plain": [
              "<Axes: title={'center': 'Cost History'}, xlabel='Iterations', ylabel='Cost'>"
            ]
          },
          "metadata": {},
          "execution_count": 27
        },
        {
          "output_type": "display_data",
          "data": {
            "text/plain": [
              "<Figure size 1000x800 with 1 Axes>"
            ],
            "image/png": "[encoded data removed]"
          },
          "metadata": {}
        }
      ]
    }
  ]
}