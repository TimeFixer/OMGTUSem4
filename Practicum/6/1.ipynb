{
 "cells": [
  {
   "cell_type": "markdown",
   "id": "95b6ad82",
   "metadata": {},
   "source": [
    "1.\tФункция удаления символов из строки\n",
    "Напишите функцию remove_chars(text, chars), которая принимает строку и набор символов (в виде списка или множества) и возвращает новую строку, в которой все символы, входящие в chars, удалены (сохраните регистр остальных символов). Функция разделения списка слов на уникальные и повторяющиеся"
   ]
  },
  {
   "cell_type": "code",
   "execution_count": 1,
   "id": "e34cc0b6",
   "metadata": {},
   "outputs": [],
   "source": [
    "def remove_chars(text, chars):\n",
    "    return ''.join(char for char in text if char not in set(chars))"
   ]
  },
  {
   "cell_type": "code",
   "execution_count": 2,
   "id": "d109009b",
   "metadata": {},
   "outputs": [
    {
     "name": "stdout",
     "output_type": "stream",
     "text": [
      "He, Wrd!\n"
     ]
    }
   ],
   "source": [
    "print(remove_chars(\"Hello, World!\", ['l', 'o']))"
   ]
  },
  {
   "cell_type": "markdown",
   "id": "3edaaafd",
   "metadata": {},
   "source": [
    "2.\tНапишите функцию split_unique(words), которая принимает список слов и возвращает кортеж из двух списков: первый – список уникальных слов (без повторений), второй – список слов, которые встречались более одного раза. Для поиска использовать множества."
   ]
  },
  {
   "cell_type": "code",
   "execution_count": 7,
   "id": "268a1613",
   "metadata": {},
   "outputs": [],
   "source": [
    "def split_unique(words):\n",
    "    word_counts = {}\n",
    "    for word in words:\n",
    "        word_counts[word] = word_counts.get(word, 0) + 1\n",
    "    unique = [word for word in words if word_counts[word] == 1]\n",
    "    repeated = list({word for word in words if word_counts[word] > 1})\n",
    "    return (unique, repeated)"
   ]
  },
  {
   "cell_type": "code",
   "execution_count": 8,
   "id": "3dae4381",
   "metadata": {},
   "outputs": [
    {
     "name": "stdout",
     "output_type": "stream",
     "text": [
      "(['bird'], ['dog', 'cat'])\n"
     ]
    }
   ],
   "source": [
    "print(split_unique([\"cat\", \"dog\", \"cat\", \"bird\", \"dog\"]))"
   ]
  },
  {
   "cell_type": "markdown",
   "id": "ad74f1ac",
   "metadata": {},
   "source": [
    "3.\tФункция реверсирования каждого слова\n",
    "Напишите функцию reverse_each_word(sentence), которая принимает строку (предложение) и возвращает новую строку, где в каждом слове порядок символов перевёрнут, но порядок слов в предложении остаётся прежним. Используйте методы split и join.\n"
   ]
  },
  {
   "cell_type": "code",
   "execution_count": 5,
   "id": "192d8ca4",
   "metadata": {},
   "outputs": [],
   "source": [
    "def reverse_each_word(sentence):\n",
    "    return ' '.join(word[::-1] for word in sentence.split())"
   ]
  },
  {
   "cell_type": "code",
   "execution_count": 6,
   "id": "1a1b2782",
   "metadata": {},
   "outputs": [
    {
     "name": "stdout",
     "output_type": "stream",
     "text": [
      "olleH dlroW\n"
     ]
    }
   ],
   "source": [
    "print(reverse_each_word(\"Hello World\"))"
   ]
  }
 ],
 "metadata": {
  "kernelspec": {
   "display_name": "Python 3",
   "language": "python",
   "name": "python3"
  },
  "language_info": {
   "codemirror_mode": {
    "name": "ipython",
    "version": 3
   },
   "file_extension": ".py",
   "mimetype": "text/x-python",
   "name": "python",
   "nbconvert_exporter": "python",
   "pygments_lexer": "ipython3",
   "version": "3.13.3"
  }
 },
 "nbformat": 4,
 "nbformat_minor": 5
}
