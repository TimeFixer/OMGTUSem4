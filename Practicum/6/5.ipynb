{
 "cells": [
  {
   "cell_type": "code",
   "execution_count": null,
   "id": "979b4a8e",
   "metadata": {},
   "outputs": [
    {
     "name": "stdout",
     "output_type": "stream",
     "text": [
      "world hello\n"
     ]
    }
   ],
   "source": [
    "from typing import Callable\n",
    "\n",
    "\n",
    "# Композиция двух функций: compose(f, g)(x) = f(g(x))\n",
    "def compose(f: Callable, g: Callable) -> Callable:\n",
    "    return lambda x: f(g(x))\n",
    "\n",
    "# Функция для обработки строки\n",
    "def process_string(s: str) -> str:\n",
    "    trim_spaces = lambda s: s.strip()\n",
    "    to_lower = lambda s: s.lower()\n",
    "    reverse_words = lambda s: ' '.join(s.split()[::-1])\n",
    "    \n",
    "    # Композиция: reverse_words(to_lower(trim_spaces(s)))\n",
    "    composed = compose(compose(reverse_words, to_lower), trim_spaces)\n",
    "    return composed(s)\n",
    "\n",
    "# Пример использования\n",
    "print(process_string(\"  Hello World  \"))  # Вывод: \"world hello\""
   ]
  },
  {
   "cell_type": "code",
   "execution_count": 7,
   "id": "00e67a39",
   "metadata": {},
   "outputs": [
    {
     "name": "stdout",
     "output_type": "stream",
     "text": [
      "120\n",
      "1\n"
     ]
    }
   ],
   "source": [
    "from functools import reduce\n",
    "\n",
    "def factorial(n: int) -> int:\n",
    "    if n == 0:\n",
    "        return 1\n",
    "    return reduce(lambda x, y: x * y, range(1, n + 1))\n",
    "\n",
    "print(factorial(5))\n",
    "print(factorial(0))"
   ]
  }
 ],
 "metadata": {
  "kernelspec": {
   "display_name": "Python 3",
   "language": "python",
   "name": "python3"
  },
  "language_info": {
   "codemirror_mode": {
    "name": "ipython",
    "version": 3
   },
   "file_extension": ".py",
   "mimetype": "text/x-python",
   "name": "python",
   "nbconvert_exporter": "python",
   "pygments_lexer": "ipython3",
   "version": "3.13.3"
  }
 },
 "nbformat": 4,
 "nbformat_minor": 5
}
