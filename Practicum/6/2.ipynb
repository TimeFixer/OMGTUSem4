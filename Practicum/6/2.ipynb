{
 "cells": [
  {
   "cell_type": "markdown",
   "id": "4ce3aa0a",
   "metadata": {},
   "source": [
    "1.\tРекурсивный поиск всех ключей во вложенном словаре\n",
    "\n",
    "Напишите функцию find_keys(d), которая принимает словарь, значения которого могут быть другими словарями, и возвращает список всех ключей, встречающихся на любом уровне вложенности."
   ]
  },
  {
   "cell_type": "code",
   "execution_count": 1,
   "id": "9f2f17c5",
   "metadata": {},
   "outputs": [],
   "source": [
    "def find_keys(d):\n",
    "    keys = []\n",
    "    for key, value in d.items():\n",
    "        keys.append(key)\n",
    "        if isinstance(value, dict):\n",
    "            keys.extend(find_keys(value))\n",
    "    return keys"
   ]
  },
  {
   "cell_type": "code",
   "execution_count": 2,
   "id": "65492e5d",
   "metadata": {},
   "outputs": [
    {
     "name": "stdout",
     "output_type": "stream",
     "text": [
      "['a', 'b', 'c', 'd', 'e', 'f']\n"
     ]
    }
   ],
   "source": [
    "print(find_keys({'a': 1, 'b': {'c': 2, 'd': {'e': 3}}, 'f': 4}))"
   ]
  },
  {
   "cell_type": "markdown",
   "id": "3d42854b",
   "metadata": {},
   "source": [
    "2.\tРекурсивное извлечение значений по заданному ключу\n",
    "\n",
    "Напишите функцию extract_values(d, key), которая принимает вложенный словарь d и искомый ключ key, возвращая список всех значений, ассоциированных с этим ключом на всех уровнях.\n"
   ]
  },
  {
   "cell_type": "code",
   "execution_count": 3,
   "id": "f9d929ce",
   "metadata": {},
   "outputs": [],
   "source": [
    "def extract_values(d, key):\n",
    "    values = []\n",
    "    for k, v in d.items():\n",
    "        if k == key:\n",
    "            values.append(v)\n",
    "        if isinstance(v, dict):\n",
    "            values.extend(extract_values(v, key))\n",
    "    return values"
   ]
  },
  {
   "cell_type": "code",
   "execution_count": null,
   "id": "888429f4",
   "metadata": {},
   "outputs": [
    {
     "name": "stdout",
     "output_type": "stream",
     "text": [
      "[1, 2, 3]\n"
     ]
    }
   ],
   "source": [
    "d = {'a': 1, 'b': {'a': 2, 'c': {'a': 3}}, 'c': 4}\n",
    "print(extract_values(d, 'a'))"
   ]
  },
  {
   "cell_type": "markdown",
   "id": "a741fbe6",
   "metadata": {},
   "source": [
    "3.\tРекурсивное подсчитывание общего количества ключей\n",
    "\n",
    "Напишите функцию count_keys(d), которая возвращает общее число ключей во вложенном словаре (учитывая все уровни вложенности) \n"
   ]
  },
  {
   "cell_type": "code",
   "execution_count": 5,
   "id": "77ca47d7",
   "metadata": {},
   "outputs": [],
   "source": [
    "def count_keys(d):\n",
    "    count = len(d)\n",
    "    for value in d.values():\n",
    "        if isinstance(value, dict):\n",
    "            count += count_keys(value)\n",
    "    return count"
   ]
  },
  {
   "cell_type": "code",
   "execution_count": 6,
   "id": "a568115d",
   "metadata": {},
   "outputs": [
    {
     "name": "stdout",
     "output_type": "stream",
     "text": [
      "6\n"
     ]
    }
   ],
   "source": [
    "print(count_keys({'a': 1, 'b': {'c': 2, 'd': {'e': 3}}, 'f': 4}))"
   ]
  }
 ],
 "metadata": {
  "kernelspec": {
   "display_name": "Python 3",
   "language": "python",
   "name": "python3"
  },
  "language_info": {
   "codemirror_mode": {
    "name": "ipython",
    "version": 3
   },
   "file_extension": ".py",
   "mimetype": "text/x-python",
   "name": "python",
   "nbconvert_exporter": "python",
   "pygments_lexer": "ipython3",
   "version": "3.13.3"
  }
 },
 "nbformat": 4,
 "nbformat_minor": 5
}
