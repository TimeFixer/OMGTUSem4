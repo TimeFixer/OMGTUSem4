{
 "cells": [
  {
   "cell_type": "markdown",
   "id": "3b08a5ed",
   "metadata": {},
   "source": [
    "1.\tПараметризованный декоратор, модифицирующий результат.\n",
    "Создайте декоратор multiply_result(factor), который принимает параметр factor и возвращает декоратор, умножающий возвращаемое значение функции на этот множитель. Примените его к функции, возвращающей число.\n"
   ]
  },
  {
   "cell_type": "code",
   "execution_count": 2,
   "id": "a426154f",
   "metadata": {},
   "outputs": [],
   "source": [
    "def multiply_result(factor):\n",
    "    def decorator(func):\n",
    "        def wrapper(*args, **kwargs):\n",
    "            result = func(*args, **kwargs)  # Вызываем исходную функцию\n",
    "            return result * factor  # Умножаем результат на factor\n",
    "        return wrapper\n",
    "    return decorator"
   ]
  },
  {
   "cell_type": "code",
   "execution_count": 3,
   "id": "39044eb8",
   "metadata": {},
   "outputs": [
    {
     "name": "stdout",
     "output_type": "stream",
     "text": [
      "15\n"
     ]
    }
   ],
   "source": [
    "@multiply_result(3)  # Результат будет умножен на 3\n",
    "def get_number():\n",
    "    return 5\n",
    "\n",
    "print(get_number())  # Вывод: 15"
   ]
  },
  {
   "cell_type": "markdown",
   "id": "57a5336e",
   "metadata": {},
   "source": [
    "2.\tДекоратор с использованием functools.wraps.\n",
    "Напишите декоратор, который модифицирует поведение функции (например, выводит сообщение до и после вызова) и обязательно сохраняет метаданные (имя, docstring) исходной функции через functools.wraps. Проверьте, что после декорирования имя и документация функции не изменились.\n"
   ]
  },
  {
   "cell_type": "code",
   "execution_count": 4,
   "id": "ec3235db",
   "metadata": {},
   "outputs": [],
   "source": [
    "from functools import wraps\n",
    "\n",
    "def log_execution(func):\n",
    "    @wraps(func)  # Сохраняем метаданные исходной функции\n",
    "    def wrapper(*args, **kwargs):\n",
    "        print(f\"Начало выполнения функции {func.__name__}\")\n",
    "        result = func(*args, **kwargs)\n",
    "        print(f\"Конец выполнения функции {func.__name__}\")\n",
    "        return result\n",
    "    return wrapper"
   ]
  },
  {
   "cell_type": "code",
   "execution_count": 5,
   "id": "9831df74",
   "metadata": {},
   "outputs": [],
   "source": [
    "@log_execution\n",
    "def greet(name):\n",
    "    \"\"\"Возвращает приветствие для указанного имени.\"\"\"\n",
    "    return f\"Привет, {name}!\""
   ]
  },
  {
   "cell_type": "code",
   "execution_count": 6,
   "id": "e06b7d68",
   "metadata": {},
   "outputs": [
    {
     "name": "stdout",
     "output_type": "stream",
     "text": [
      "Начало выполнения функции greet\n",
      "Конец выполнения функции greet\n",
      "Привет, Алиса!\n",
      "greet\n",
      "Возвращает приветствие для указанного имени.\n"
     ]
    }
   ],
   "source": [
    "print(greet(\"Алиса\"))  \n",
    "\n",
    "print(greet.__name__)  \n",
    "print(greet.__doc__)"
   ]
  }
 ],
 "metadata": {
  "kernelspec": {
   "display_name": "Python 3",
   "language": "python",
   "name": "python3"
  },
  "language_info": {
   "codemirror_mode": {
    "name": "ipython",
    "version": 3
   },
   "file_extension": ".py",
   "mimetype": "text/x-python",
   "name": "python",
   "nbconvert_exporter": "python",
   "pygments_lexer": "ipython3",
   "version": "3.13.3"
  }
 },
 "nbformat": 4,
 "nbformat_minor": 5
}
