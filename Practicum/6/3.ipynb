{
 "cells": [
  {
   "cell_type": "code",
   "execution_count": 7,
   "id": "1b0443ed",
   "metadata": {},
   "outputs": [],
   "source": [
    "def filter_map(predicate, func, iterable):\n",
    "    \"\"\"\n",
    "    Сначала фильтрует iterable по предикату, затем применяет func к оставшимся элементам.\n",
    "    Возвращает список результатов.\n",
    "    \"\"\"\n",
    "    return [func(x) for x in iterable if predicate(x)]"
   ]
  },
  {
   "cell_type": "code",
   "execution_count": 8,
   "id": "f9e944dd",
   "metadata": {},
   "outputs": [
    {
     "name": "stdout",
     "output_type": "stream",
     "text": [
      "[4, 16, 36]\n"
     ]
    }
   ],
   "source": [
    "numbers = [1, 2, 3, 4, 5, 6]\n",
    "result = filter_map(lambda x: x % 2 == 0, lambda x: x ** 2, numbers)\n",
    "print(result)"
   ]
  },
  {
   "cell_type": "code",
   "execution_count": 9,
   "id": "691e0b9f",
   "metadata": {},
   "outputs": [],
   "source": [
    "def reduce_sum(numbers, start):\n",
    "    \"\"\"\n",
    "    Возвращает сумму чисел из списка с начальным значением start.\n",
    "    \"\"\"\n",
    "    total = start\n",
    "    for num in numbers:\n",
    "        total += num\n",
    "    return total"
   ]
  },
  {
   "cell_type": "code",
   "execution_count": 10,
   "id": "9fb1ad51",
   "metadata": {},
   "outputs": [
    {
     "name": "stdout",
     "output_type": "stream",
     "text": [
      "20\n"
     ]
    }
   ],
   "source": [
    "numbers = [1, 2, 3, 4]\n",
    "result = reduce_sum(numbers, start=10)\n",
    "print(result)"
   ]
  },
  {
   "cell_type": "code",
   "execution_count": 11,
   "id": "a0cc4a54",
   "metadata": {},
   "outputs": [],
   "source": [
    "def make_multiplier(factor):\n",
    "    \"\"\"\n",
    "    Принимает число factor и возвращает новую функцию, которая умножает свой аргумент на factor.\n",
    "    \"\"\"\n",
    "    def multiplier(x):\n",
    "        return x * factor\n",
    "    return multiplier"
   ]
  },
  {
   "cell_type": "code",
   "execution_count": 12,
   "id": "3c8a6788",
   "metadata": {},
   "outputs": [
    {
     "name": "stdout",
     "output_type": "stream",
     "text": [
      "50\n"
     ]
    }
   ],
   "source": [
    "times_five = make_multiplier(5)\n",
    "result = times_five(10)\n",
    "print(result)"
   ]
  }
 ],
 "metadata": {
  "kernelspec": {
   "display_name": "Python 3",
   "language": "python",
   "name": "python3"
  },
  "language_info": {
   "codemirror_mode": {
    "name": "ipython",
    "version": 3
   },
   "file_extension": ".py",
   "mimetype": "text/x-python",
   "name": "python",
   "nbconvert_exporter": "python",
   "pygments_lexer": "ipython3",
   "version": "3.13.3"
  }
 },
 "nbformat": 4,
 "nbformat_minor": 5
}
