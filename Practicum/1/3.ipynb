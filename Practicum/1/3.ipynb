{
 "cells": [
  {
   "cell_type": "markdown",
   "metadata": {},
   "source": [
    "# HyperLogLog\n",
    "\n",
    "Каждый элемент хэшируется в битовую строку.\n",
    "\n",
    "Алгоритм использует массив регистров (обычно 2^b штук).\n",
    "\n",
    "Первые b бит хэша определяют, в какой регистр записать элемент.\n",
    "\n",
    "Остальные биты хэша используются для подсчёта количества ведущих нулей + 1.\n",
    "\n",
    "Если количество ведущих нулей больше текущего значения в регистре, оно обновляется.\n",
    "\n",
    "На основе значений регистров вычисляется оценка уникальных элементов с использованием гармонического среднего."
   ]
  },
  {
   "cell_type": "code",
   "execution_count": 1,
   "metadata": {},
   "outputs": [
    {
     "name": "stdout",
     "output_type": "stream",
     "text": [
      "Estimated cardinality: 0.0\n"
     ]
    }
   ],
   "source": [
    "import hashlib\n",
    "import math\n",
    "\n",
    "class HyperLogLog:\n",
    "    def __init__(self, b=10):\n",
    "        self.b = b\n",
    "        self.m = 1 << b  # Количество регистров (2^b)\n",
    "        self.registers = [0] * self.m\n",
    "        self.alpha = self._calculate_alpha()\n",
    "\n",
    "    def _calculate_alpha(self):\n",
    "        if self.m == 16:\n",
    "            return 0.673\n",
    "        elif self.m == 32:\n",
    "            return 0.697\n",
    "        elif self.m == 64:\n",
    "            return 0.709\n",
    "        else:\n",
    "            return 0.7213 / (1 + 1.079 / self.m)\n",
    "\n",
    "    def _hash(self, value):\n",
    "        # Используем SHA-1 для хэширования\n",
    "        hash_value = hashlib.sha1(value.encode('utf-8')).hexdigest()\n",
    "        return int(hash_value, 16)\n",
    "\n",
    "    def _get_register_index_and_rho(self, hash_value):\n",
    "        # Первые b бит определяют индекс регистра\n",
    "        index = hash_value & (self.m - 1)\n",
    "        # Остальные биты определяют rho (количество ведущих нулей + 1)\n",
    "        rho = self._count_leading_zeros(hash_value >> self.b) + 1\n",
    "        return index, rho\n",
    "\n",
    "    def _count_leading_zeros(self, x):\n",
    "        return self.b - x.bit_length()\n",
    "\n",
    "    def add(self, value):\n",
    "        hash_value = self._hash(value)\n",
    "        index, rho = self._get_register_index_and_rho(hash_value)\n",
    "        self.registers[index] = max(self.registers[index], rho)\n",
    "\n",
    "    def count(self):\n",
    "        # Оценка кардинальности\n",
    "        harmonic_mean = sum(2 ** -r for r in self.registers)\n",
    "        estimate = self.alpha * self.m * self.m / harmonic_mean\n",
    "\n",
    "        # Коррекция для малых значений\n",
    "        if estimate <= 2.5 * self.m:\n",
    "            zeros = self.registers.count(0)\n",
    "            if zeros != 0:\n",
    "                estimate = self.m * math.log(self.m / zeros)\n",
    "        # Коррекция для больших значений\n",
    "        elif estimate > (1 << 32) / 30.0:\n",
    "            estimate = -(1 << 32) * math.log(1 - estimate / (1 << 32))\n",
    "        return estimate\n",
    "\n",
    "# Пример использования\n",
    "hll = HyperLogLog(b=10)\n",
    "for i in range(100000):\n",
    "    hll.add(f\"item_{i}\")\n",
    "print(f\"Estimated cardinality: {hll.count()}\")"
   ]
  },
  {
   "cell_type": "code",
   "execution_count": 2,
   "metadata": {},
   "outputs": [
    {
     "name": "stdout",
     "output_type": "stream",
     "text": [
      "False positive rate: 0.00%\n"
     ]
    }
   ],
   "source": [
    "def calculate_false_positive_rate(hll, true_cardinality):\n",
    "    estimated_cardinality = hll.count()\n",
    "    false_positives = max(0, estimated_cardinality - true_cardinality)\n",
    "    return false_positives / true_cardinality * 100\n",
    "\n",
    "# Пример использования\n",
    "true_cardinality = 100000\n",
    "hll = HyperLogLog(b=10)\n",
    "for i in range(true_cardinality):\n",
    "    hll.add(f\"item_{i}\")\n",
    "false_positive_rate = calculate_false_positive_rate(hll, true_cardinality)\n",
    "print(f\"False positive rate: {false_positive_rate:.2f}%\")"
   ]
  },
  {
   "cell_type": "code",
   "execution_count": 3,
   "metadata": {},
   "outputs": [
    {
     "name": "stdout",
     "output_type": "stream",
     "text": [
      "b | False Positive Rate (%)\n",
      "4 | 0.00\n",
      "5 | 0.00\n",
      "6 | 0.00\n",
      "7 | 0.00\n",
      "8 | 0.00\n",
      "9 | 0.00\n",
      "10 | 0.00\n",
      "11 | 0.00\n",
      "12 | 0.00\n",
      "13 | 0.00\n",
      "14 | 0.00\n",
      "15 | 0.00\n"
     ]
    },
    {
     "data": {
      "image/png": "[encoded data removed]",
      "text/plain": [
       "<Figure size 640x480 with 1 Axes>"
      ]
     },
     "metadata": {},
     "output_type": "display_data"
    }
   ],
   "source": [
    "import matplotlib.pyplot as plt\n",
    "\n",
    "def evaluate_false_positive_rates(true_cardinality, b_values):\n",
    "    false_positive_rates = []\n",
    "    for b in b_values:\n",
    "        hll = HyperLogLog(b=b)\n",
    "        for i in range(true_cardinality):\n",
    "            hll.add(f\"item_{i}\")\n",
    "        false_positive_rate = calculate_false_positive_rate(hll, true_cardinality)\n",
    "        false_positive_rates.append(false_positive_rate)\n",
    "    return false_positive_rates\n",
    "\n",
    "# Параметры\n",
    "true_cardinality = 100000\n",
    "b_values = range(4, 16)\n",
    "\n",
    "# Оценка\n",
    "false_positive_rates = evaluate_false_positive_rates(true_cardinality, b_values)\n",
    "\n",
    "# Таблица\n",
    "print(\"b | False Positive Rate (%)\")\n",
    "for b, rate in zip(b_values, false_positive_rates):\n",
    "    print(f\"{b} | {rate:.2f}\")\n",
    "\n",
    "# График\n",
    "plt.plot(b_values, false_positive_rates, marker='o')\n",
    "plt.xlabel('b (number of bits)')\n",
    "plt.ylabel('False Positive Rate (%)')\n",
    "plt.title('Dependence of False Positive Rate on b')\n",
    "plt.grid(True)\n",
    "plt.show()"
   ]
  }
 ],
 "metadata": {
  "kernelspec": {
   "display_name": "Python 3",
   "language": "python",
   "name": "python3"
  },
  "language_info": {
   "codemirror_mode": {
    "name": "ipython",
    "version": 3
   },
   "file_extension": ".py",
   "mimetype": "text/x-python",
   "name": "python",
   "nbconvert_exporter": "python",
   "pygments_lexer": "ipython3",
   "version": "3.13.2"
  }
 },
 "nbformat": 4,
 "nbformat_minor": 2
}
