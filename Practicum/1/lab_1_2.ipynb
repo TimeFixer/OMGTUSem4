{
 "cells": [
  {
   "cell_type": "markdown",
   "metadata": {},
   "source": [
    "# Задание 2: Фильтр Блума с счетчиком"
   ]
  },
  {
   "cell_type": "code",
   "execution_count": 1,
   "metadata": {},
   "outputs": [],
   "source": [
    "%reset -f"
   ]
  },
  {
   "cell_type": "code",
   "execution_count": 2,
   "metadata": {},
   "outputs": [],
   "source": [
    "import math\n",
    "import numpy as np\n",
    "import pandas as pd\n",
    "import seaborn as sns\n",
    "import math\n",
    "import matplotlib.pyplot as plt\n",
    "from collections import Counter\n",
    "from get_hashes_module import get_hashes"
   ]
  },
  {
   "cell_type": "code",
   "execution_count": 3,
   "metadata": {},
   "outputs": [],
   "source": [
    "class BloomFilterCount:\n",
    "    def __init__(self, size, hash_count):\n",
    "        self.size = size  # Размер битового массива\n",
    "        self.hash_count = hash_count  # Количество хеш-функций\n",
    "        self.bit_array = [0] * size  # Битовый массив, начальный вид - все биты равны 0\n",
    "        self.element_count = 0\n",
    "\n",
    "    def add(self, item):\n",
    "        hashes = get_hashes(item, self.size, self.hash_count)\n",
    "        for hash in hashes:\n",
    "            self.bit_array[int(hash,2)] += 1  # Устанавливаем соответствующие биты в 1\n",
    "        self.element_count += 1\n",
    "\n",
    "    def check(self, item):\n",
    "        hashes = get_hashes(item, self.size, self.hash_count)\n",
    "        counter = Counter(hashes)\n",
    "\n",
    "        for hash, count in counter.items():\n",
    "            if self.bit_array[int(hash,2)] < count:\n",
    "                return False  # Если хотя бы один бит не установлен, элемент точно отсутствует\n",
    "        return True  # Если все биты установлены, элемент, возможно, присутствует\n",
    "    \n",
    "    # должны проверить что счетчик по индексу >= количеству вхождений остатков от хешей в массив по индексу\n",
    "\n",
    "    def remove(self, item):\n",
    "        hashes = get_hashes(item, self.size, self.hash_count)\n",
    "        for hash in hashes:\n",
    "            if self.bit_array[int(hash,2)] > 0:  # Защита от ухода в минус\n",
    "                self.bit_array[int(hash,2)] -= 1\n",
    "        self.element_count -= 1\n",
    "    \n",
    "    def union(self, other_filter):\n",
    "        if self.size != other_filter.size or self.hash_count != other_filter.hash_count:\n",
    "            raise ValueError(\"Фильтры должны иметь одинаковые размеры и количество хеш-функций.\")\n",
    "\n",
    "        # Создаем новый фильтр\n",
    "        result_filter = BloomFilterCount(self.size, self.hash_count)\n",
    "        result_filter.bit_array = [a | b for a, b in zip(self.bit_array, other_filter.bit_array)]\n",
    "        result_filter.element_count = self.element_count + other_filter.element_count\n",
    "        return result_filter\n",
    "\n",
    "    def intersection(self, other_filter):\n",
    "        if self.size != other_filter.size or self.hash_count != other_filter.hash_count:\n",
    "            raise ValueError(\"Фильтры должны иметь одинаковые размеры и количество хеш-функций.\")\n",
    "        \n",
    "        # Создаем новый фильтр\n",
    "        result_filter = BloomFilterCount(self.size, self.hash_count)\n",
    "        result_filter.bit_array = [a & b for a, b in zip(self.bit_array, other_filter.bit_array)]\n",
    "        result_filter.element_count = min(self.element_count, other_filter.element_count)\n",
    "        return result_filter\n",
    "    \n",
    "    def false_positive_probability(self):\n",
    "        if self.size == 0 or self.element_count == 0:\n",
    "            return 0\n",
    "        \n",
    "        # Формула для вероятности ложноположительных срабатываний\n",
    "        m = self.size  # Размер битового массива\n",
    "        n = self.element_count  # Количество добавленных элементов\n",
    "        k = self.hash_count  # Количество хеш-функций\n",
    "        \n",
    "        argexp = -(k * n) / m\n",
    "        probability = (1 - math.exp(argexp)) ** k\n",
    "        return probability"
   ]
  },
  {
   "cell_type": "code",
   "execution_count": 4,
   "metadata": {},
   "outputs": [
    {
     "name": "stdout",
     "output_type": "stream",
     "text": [
      "До удаления:\n",
      "Элемент 'apple' в множестве (возможно)\n",
      "Элемент 'banana' в множестве (возможно)\n",
      "Элемент 'grape' в множестве (возможно)\n",
      "Элемент 'blueberry' не в множестве\n"
     ]
    }
   ],
   "source": [
    "counting_bloom_filter = BloomFilterCount(size = 64, hash_count=3)\n",
    "# Добавляем несколько элементов\n",
    "elements_to_add = [\"apple\", \"banana\", \"grape\"]\n",
    "for element in elements_to_add:\n",
    "    counting_bloom_filter.add(element)\n",
    "\n",
    "# Проверяем элементы\n",
    "test_elements = [\"apple\", \"banana\", 'grape', \"blueberry\"]\n",
    "print(\"До удаления:\")\n",
    "for element in test_elements:\n",
    "    result = counting_bloom_filter.check(element)\n",
    "    print(f\"Элемент '{element}' {'в множестве (возможно)' if result else 'не в множестве'}\")"
   ]
  },
  {
   "cell_type": "code",
   "execution_count": 5,
   "metadata": {},
   "outputs": [
    {
     "name": "stdout",
     "output_type": "stream",
     "text": [
      "Вероятность ложноположительного срабатывания: 0.23%\n"
     ]
    }
   ],
   "source": [
    "fp_prob_counting = counting_bloom_filter.false_positive_probability()\n",
    "print(f\"Вероятность ложноположительного срабатывания: {fp_prob_counting * 100:.2f}%\")"
   ]
  },
  {
   "cell_type": "code",
   "execution_count": 6,
   "metadata": {},
   "outputs": [
    {
     "name": "stdout",
     "output_type": "stream",
     "text": [
      "После удаления:\n",
      "Элемент 'apple' не в множестве\n",
      "Элемент 'banana' в множестве (возможно)\n",
      "Элемент 'grape' в множестве (возможно)\n",
      "Элемент 'blueberry' не в множестве\n"
     ]
    }
   ],
   "source": [
    "# Удаляем элемент\n",
    "counting_bloom_filter.remove(\"apple\")\n",
    "# Проверяем снова\n",
    "print(\"После удаления:\")\n",
    "for element in test_elements:\n",
    "    result = counting_bloom_filter.check(element)\n",
    "    print(f\"Элемент '{element}' {'в множестве (возможно)' if result else 'не в множестве'}\")"
   ]
  },
  {
   "cell_type": "code",
   "execution_count": 7,
   "metadata": {},
   "outputs": [
    {
     "name": "stdout",
     "output_type": "stream",
     "text": [
      "Вероятность ложноположительного срабатывания: 0.07%\n"
     ]
    }
   ],
   "source": [
    "fp_prob_counting = counting_bloom_filter.false_positive_probability()\n",
    "print(f\"Вероятность ложноположительного срабатывания: {fp_prob_counting * 100:.2f}%\")"
   ]
  }
 ],
 "metadata": {
  "kernelspec": {
   "display_name": "Python 3",
   "language": "python",
   "name": "python3"
  },
  "language_info": {
   "codemirror_mode": {
    "name": "ipython",
    "version": 3
   },
   "file_extension": ".py",
   "mimetype": "text/x-python",
   "name": "python",
   "nbconvert_exporter": "python",
   "pygments_lexer": "ipython3",
   "version": "3.13.2"
  }
 },
 "nbformat": 4,
 "nbformat_minor": 2
}
