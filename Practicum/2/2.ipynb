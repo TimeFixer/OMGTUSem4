{
 "cells": [
  {
   "cell_type": "code",
   "execution_count": 50,
   "metadata": {},
   "outputs": [],
   "source": [
    "import pandas as pd\n",
    "from sklearn.model_selection import train_test_split\n",
    "from sklearn.preprocessing import LabelEncoder\n",
    "from sklearn.linear_model import LogisticRegression\n",
    "from sklearn.tree import DecisionTreeClassifier\n",
    "from sklearn.neighbors import KNeighborsClassifier\n",
    "from sklearn.naive_bayes import GaussianNB\n",
    "import time\n",
    "import joblib"
   ]
  },
  {
   "cell_type": "code",
   "execution_count": 51,
   "metadata": {},
   "outputs": [],
   "source": [
    "# Список моделей\n",
    "models = {\n",
    "    # Логистическая регрессия: \n",
    "    # - Простой и интерпретируемый метод\n",
    "    # - Хорошо работает с бинарной классификацией\n",
    "    # - Эффективен для линейно разделимых данных\n",
    "    'Logistic Regression': LogisticRegression(max_iter=10000),\n",
    "    # Дерево решений:\n",
    "    # - Интуитивно понятен и легко интерпретируется\n",
    "    # - Может моделировать нелинейные зависимости\n",
    "    # - Хорошо подходит для смешанных типов данных\n",
    "    'Decision Tree': DecisionTreeClassifier(max_depth=5),\n",
    "    # k-ближайших соседей:\n",
    "    # - Простой и не требует предположений о распределении данных\n",
    "    # - Эффективен для задач с локальной структурой данных\n",
    "    # - Подходит для небольших и средних датасетов\n",
    "    'K-Nearest Neighbors': KNeighborsClassifier(n_neighbors=5),\n",
    "    # Наивный Байес:\n",
    "    # - Очень быстрый и требует мало данных для обучения\n",
    "    # - Хорошо работает с независимыми признаками\n",
    "    # - Прост в реализации и эффективен для базовой классификации\n",
    "    'Naive Bayes': GaussianNB()\n",
    "}\n",
    "\n",
    "# Словарь для хранения результатов всех моделей по всем датасетам\n",
    "all_results = {name: {'accuracy': [], 'time': []} for name in models.keys()}"
   ]
  },
  {
   "cell_type": "code",
   "execution_count": 52,
   "metadata": {},
   "outputs": [],
   "source": [
    "# Обработка всех 12 датасетов\n",
    "for i in range(1, 13):\n",
    "    # Загрузка датасета\n",
    "    dataset_name = f'dataset_{i}.csv'\n",
    "\n",
    "    df = pd.read_csv(dataset_name)\n",
    "    \n",
    "    # Подготовка данных\n",
    "    le_figure1 = LabelEncoder()\n",
    "    le_figure2 = LabelEncoder()\n",
    "    df['figure1'] = le_figure1.fit_transform(df['figure1'])\n",
    "    df['figure2'] = le_figure2.fit_transform(df['figure2'])\n",
    "    \n",
    "    if 'color1' in df.columns:\n",
    "        le_color1 = LabelEncoder()\n",
    "        le_color2 = LabelEncoder()\n",
    "        df['color1'] = le_color1.fit_transform(df['color1'])\n",
    "        df['color2'] = le_color2.fit_transform(df['color2'])\n",
    "    \n",
    "    # Разделение данных\n",
    "    X = df.drop('collision', axis=1)\n",
    "    y = df['collision']\n",
    "    X_train, X_test, y_train, y_test = train_test_split(X, y, test_size=0.2, random_state=42)\n",
    "    \n",
    "    # Обучение и оценка моделей\n",
    "    for name, model in models.items():\n",
    "        start_time = time.time()\n",
    "        model.fit(X_train, y_train)\n",
    "        training_time = time.time() - start_time\n",
    "        accuracy = model.score(X_test, y_test)\n",
    "        \n",
    "        # Сохранение результатов\n",
    "        all_results[name]['accuracy'].append(accuracy)\n",
    "        all_results[name]['time'].append(training_time)"
   ]
  },
  {
   "cell_type": "code",
   "execution_count": 53,
   "metadata": {},
   "outputs": [],
   "source": [
    "# Анализ результатов\n",
    "summary = {}\n",
    "for name in models.keys():\n",
    "    avg_accuracy = sum(all_results[name]['accuracy']) / len(all_results[name]['accuracy'])\n",
    "    avg_time = sum(all_results[name]['time']) / len(all_results[name]['time'])\n",
    "    summary[name] = {'avg_accuracy': avg_accuracy, 'avg_time': avg_time}\n",
    "\n",
    "sorted_models = sorted(summary.items(), key=lambda x: x[1]['avg_accuracy'], reverse=True)"
   ]
  },
  {
   "cell_type": "code",
   "execution_count": 54,
   "metadata": {},
   "outputs": [
    {
     "name": "stdout",
     "output_type": "stream",
     "text": [
      "Две лучшие модели:\n",
      "1. Decision Tree\n",
      "   Средняя точность: 0.6687\n",
      "   Среднее время обучения: 0.0036 сек\n",
      "Сохранена модель Decision Tree как best_model_1_decision_tree.pkl\n",
      "2. Naive Bayes\n",
      "   Средняя точность: 0.6312\n",
      "   Среднее время обучения: 0.0022 сек\n",
      "Сохранена модель Naive Bayes как best_model_2_naive_bayes.pkl\n"
     ]
    }
   ],
   "source": [
    "# Вывод двух лучших моделей\n",
    "print(\"Две лучшие модели:\")\n",
    "for i, (name, metrics) in enumerate(sorted_models[:2], 1):\n",
    "    print(f\"{i}. {name}\")\n",
    "    print(f\"   Средняя точность: {metrics['avg_accuracy']:.4f}\")\n",
    "    print(f\"   Среднее время обучения: {metrics['avg_time']:.4f} сек\")\n",
    "    filename = f'best_model_{i}_{name.lower().replace(\" \", \"_\")}.pkl'\n",
    "    joblib.dump(model, filename)\n",
    "    print(f\"Сохранена модель {name} как {filename}\")\n",
    "    \n",
    "\n"
   ]
  }
 ],
 "metadata": {
  "kernelspec": {
   "display_name": "Python 3",
   "language": "python",
   "name": "python3"
  },
  "language_info": {
   "codemirror_mode": {
    "name": "ipython",
    "version": 3
   },
   "file_extension": ".py",
   "mimetype": "text/x-python",
   "name": "python",
   "nbconvert_exporter": "python",
   "pygments_lexer": "ipython3",
   "version": "3.11.9"
  }
 },
 "nbformat": 4,
 "nbformat_minor": 2
}
